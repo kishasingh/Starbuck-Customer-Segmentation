{
 "cells": [
  {
   "cell_type": "markdown",
   "metadata": {},
   "source": [
    "# Part 1 - Starbucks Capstone Challenge\n",
    "\n",
    "In this notebook contains :\n",
    "1. Project Overview\n",
    "2. Problem Understanding\n",
    "3. Dataset overview\n",
    "4. Data Understanding and Cleaning\n",
    "\n",
    "---\n",
    "\n",
    "# 1. Project Overview\n",
    "\n",
    "### Introduction\n",
    "\n",
    "This data set contains simulated data that mimics customer behavior on the Starbucks rewards mobile app. Once every few days, Starbucks sends out an offer to users of the mobile app. An offer can be merely an advertisement for a drink or an actual offer such as a discount or BOGO (buy one get one free). Some users might not receive any offer during certain weeks. \n",
    "\n",
    "Not all users receive the same offer, and that is the challenge to solve with this data set.\n",
    "\n",
    "Your task is to combine transaction, demographic and offer data to determine which demographic groups respond best to which offer type. This data set is a simplified version of the real Starbucks app because the underlying simulator only has one product whereas Starbucks actually sells dozens of products.\n",
    "\n",
    "Every offer has a validity period before the offer expires. As an example, a BOGO offer might be valid for only 5 days. You'll see in the data set that informational offers have a validity period even though these ads are merely providing information about a product; for example, if an informational offer has 7 days of validity, you can assume the customer is feeling the influence of the offer for 7 days after receiving the advertisement.\n",
    "\n",
    "You'll be given transactional data showing user purchases made on the app including the timestamp of purchase and the amount of money spent on a purchase. This transactional data also has a record for each offer that a user receives as well as a record for when a user actually views the offer. There are also records for when a user completes an offer. \n",
    "\n",
    "Keep in mind as well that someone using the app might make a purchase through the app without having received an offer or seen an offer.\n",
    "\n",
    "### Example\n",
    "\n",
    "To give an example, a user could receive a discount offer buy 10 dollars get 2 off on Monday. The offer is valid for 10 days from receipt. If the customer accumulates at least 10 dollars in purchases during the validity period, the customer completes the offer.\n",
    "\n",
    "However, there are a few things to watch out for in this data set. Customers do not opt into the offers that they receive; in other words, a user can receive an offer, never actually view the offer, and still complete the offer. For example, a user might receive the \"buy 10 dollars get 2 dollars off offer\", but the user never opens the offer during the 10 day validity period. The customer spends 15 dollars during those ten days. There will be an offer completion record in the data set; however, the customer was not influenced by the offer because the customer never viewed the offer.\n",
    "\n",
    "### Cleaning\n",
    "\n",
    "This makes data cleaning especially important and tricky.\n",
    "\n",
    "You'll also want to take into account that some demographic groups will make purchases even if they don't receive an offer. From a business perspective, if a customer is going to make a 10 dollar purchase without an offer anyway, you wouldn't want to send a buy 10 dollars get 2 dollars off offer. You'll want to try to assess what a certain demographic group will buy when not receiving any offers.\n"
   ]
  },
  {
   "cell_type": "markdown",
   "metadata": {},
   "source": [
    "# 2. Problem Understanding\n",
    "\n",
    "Understanding our customers is the key providing them a good service and sustain a profitable business. To understand them well, we need to pay attention on their purchase behaviour. One way we can collect and analyse their purchasing behaviour through an app, then identify their needs based on demographics.\n",
    "\n",
    "The Starbucks Udacity Data Scientist Nanodegree Capstone challenge data set contains simulated data that mimics customer behavior on the Starbucks rewards mobile app. Periodically, Starbucks sends out an offer to users of the mobile app. An offer can be merely an advertisement for a drink or an actual offer such as a discount or BOGO (buy one get one free). However, some users might not receive any offer during certain weeks.\n",
    "\n",
    "Using the data, I aim to :\n",
    "\n",
    "**Part 1 & Part 2**\n",
    "    1. Gain understanding what types of customer characteristics and demographics are there.\n",
    "    2. What offer should be sent to each customer based on their demograhics ?\n",
    "    \n",
    "**Part 3**\n",
    "    3. How well can we predict customer response to the offer ?\n",
    "\n",
    "## Project Metrics :\n",
    "\n",
    "### Unsupervised Machine Learning Model\n",
    "An unsupervised machine learning model with K-Means is used to cluster the customers. \n",
    "\n",
    "The number of clusters is choosed with 2 metrics : \n",
    "1. The [Silhouttee score](https://en.wikipedia.org/wiki/Silhouette_(clustering))\n",
    "```\n",
    "The silhouette value is a measure of how similar an object is to its own cluster (cohesion) compared to other clusters (separation). The silhouette ranges from −1 to +1, where a high value indicates that the object is well matched to its own cluster and poorly matched to neighboring clusters.\n",
    "```\n",
    "\n",
    "2. The Inertia / Sum Square Error (SSE) value, can be recognized as a measure of how internally coherent clusters are. We seek to minimize the value.\n",
    "\n",
    "### Supervised Machine Learning Model\n",
    "A Supervised Machine learning using regression algorithm is used to predict customers offer completed rate.\n",
    "The regression metrics are :\n",
    "1. Mean Squared Error (MSE):\n",
    "2. Coefficient of Determination (R^2)"
   ]
  },
  {
   "cell_type": "markdown",
   "metadata": {},
   "source": [
    "# 3. Data Sets\n",
    "\n",
    "The data is contained in three files:\n",
    "\n",
    "* portfolio.json - containing offer ids and meta data about each offer (duration, type, etc.)\n",
    "* profile.json - demographic data for each customer\n",
    "* transcript.json - records for transactions, offers received, offers viewed, and offers completed\n",
    "\n",
    "Here is the schema and explanation of each variable in the files:\n",
    "\n",
    "**portfolio.json**\n",
    "* id (string) - offer id\n",
    "* offer_type (string) - type of offer ie BOGO, discount, informational\n",
    "* difficulty (int) - minimum required spend to complete an offer\n",
    "* reward (int) - reward given for completing an offer\n",
    "* duration (int) - \n",
    "* channels (list of strings)\n",
    "\n",
    "**profile.json**\n",
    "* age (int) - age of the customer \n",
    "* became_member_on (int) - date when customer created an app account\n",
    "* gender (str) - gender of the customer (note some entries contain 'O' for other rather than M or F)\n",
    "* id (str) - customer id\n",
    "* income (float) - customer's income\n",
    "\n",
    "**transcript.json**\n",
    "* event (str) - record description (ie transaction, offer received, offer viewed, etc.)\n",
    "* person (str) - customer id\n",
    "* time (int) - time in hours. The data begins at time t=0\n",
    "* value - (dict of strings) - either an offer id or transaction amount depending on the record\n"
   ]
  },
  {
   "cell_type": "code",
   "execution_count": 1,
   "metadata": {},
   "outputs": [],
   "source": [
    "import pandas as pd\n",
    "import numpy as np\n",
    "import math\n",
    "import json\n",
    "import seaborn as sns\n",
    "import matplotlib.pyplot as plt\n",
    "%matplotlib inline\n",
    "\n",
    "%load_ext autoreload\n",
    "%autoreload 2 \n",
    "\n",
    "# read in the json files\n",
    "portfolio = pd.read_json('data/portfolio.json', orient='records', lines=True)\n",
    "profile = pd.read_json('data/profile.json', orient='records', lines=True)\n",
    "transcript = pd.read_json('data/transcript.json', orient='records', lines=True)"
   ]
  },
  {
   "cell_type": "markdown",
   "metadata": {},
   "source": [
    "# 4. Data Understanding & Cleaning"
   ]
  },
  {
   "cell_type": "markdown",
   "metadata": {},
   "source": [
    "## 4.1. Portfolio"
   ]
  },
  {
   "cell_type": "code",
   "execution_count": 2,
   "metadata": {},
   "outputs": [
    {
     "data": {
      "text/html": [
       "<div>\n",
       "<style scoped>\n",
       "    .dataframe tbody tr th:only-of-type {\n",
       "        vertical-align: middle;\n",
       "    }\n",
       "\n",
       "    .dataframe tbody tr th {\n",
       "        vertical-align: top;\n",
       "    }\n",
       "\n",
       "    .dataframe thead th {\n",
       "        text-align: right;\n",
       "    }\n",
       "</style>\n",
       "<table border=\"1\" class=\"dataframe\">\n",
       "  <thead>\n",
       "    <tr style=\"text-align: right;\">\n",
       "      <th></th>\n",
       "      <th>channels</th>\n",
       "      <th>difficulty</th>\n",
       "      <th>duration</th>\n",
       "      <th>id</th>\n",
       "      <th>offer_type</th>\n",
       "      <th>reward</th>\n",
       "    </tr>\n",
       "  </thead>\n",
       "  <tbody>\n",
       "    <tr>\n",
       "      <th>0</th>\n",
       "      <td>[email, mobile, social]</td>\n",
       "      <td>10</td>\n",
       "      <td>7</td>\n",
       "      <td>ae264e3637204a6fb9bb56bc8210ddfd</td>\n",
       "      <td>bogo</td>\n",
       "      <td>10</td>\n",
       "    </tr>\n",
       "    <tr>\n",
       "      <th>1</th>\n",
       "      <td>[web, email, mobile, social]</td>\n",
       "      <td>10</td>\n",
       "      <td>5</td>\n",
       "      <td>4d5c57ea9a6940dd891ad53e9dbe8da0</td>\n",
       "      <td>bogo</td>\n",
       "      <td>10</td>\n",
       "    </tr>\n",
       "    <tr>\n",
       "      <th>2</th>\n",
       "      <td>[web, email, mobile]</td>\n",
       "      <td>0</td>\n",
       "      <td>4</td>\n",
       "      <td>3f207df678b143eea3cee63160fa8bed</td>\n",
       "      <td>informational</td>\n",
       "      <td>0</td>\n",
       "    </tr>\n",
       "    <tr>\n",
       "      <th>3</th>\n",
       "      <td>[web, email, mobile]</td>\n",
       "      <td>5</td>\n",
       "      <td>7</td>\n",
       "      <td>9b98b8c7a33c4b65b9aebfe6a799e6d9</td>\n",
       "      <td>bogo</td>\n",
       "      <td>5</td>\n",
       "    </tr>\n",
       "    <tr>\n",
       "      <th>4</th>\n",
       "      <td>[web, email]</td>\n",
       "      <td>20</td>\n",
       "      <td>10</td>\n",
       "      <td>0b1e1539f2cc45b7b9fa7c272da2e1d7</td>\n",
       "      <td>discount</td>\n",
       "      <td>5</td>\n",
       "    </tr>\n",
       "    <tr>\n",
       "      <th>5</th>\n",
       "      <td>[web, email, mobile, social]</td>\n",
       "      <td>7</td>\n",
       "      <td>7</td>\n",
       "      <td>2298d6c36e964ae4a3e7e9706d1fb8c2</td>\n",
       "      <td>discount</td>\n",
       "      <td>3</td>\n",
       "    </tr>\n",
       "    <tr>\n",
       "      <th>6</th>\n",
       "      <td>[web, email, mobile, social]</td>\n",
       "      <td>10</td>\n",
       "      <td>10</td>\n",
       "      <td>fafdcd668e3743c1bb461111dcafc2a4</td>\n",
       "      <td>discount</td>\n",
       "      <td>2</td>\n",
       "    </tr>\n",
       "    <tr>\n",
       "      <th>7</th>\n",
       "      <td>[email, mobile, social]</td>\n",
       "      <td>0</td>\n",
       "      <td>3</td>\n",
       "      <td>5a8bc65990b245e5a138643cd4eb9837</td>\n",
       "      <td>informational</td>\n",
       "      <td>0</td>\n",
       "    </tr>\n",
       "    <tr>\n",
       "      <th>8</th>\n",
       "      <td>[web, email, mobile, social]</td>\n",
       "      <td>5</td>\n",
       "      <td>5</td>\n",
       "      <td>f19421c1d4aa40978ebb69ca19b0e20d</td>\n",
       "      <td>bogo</td>\n",
       "      <td>5</td>\n",
       "    </tr>\n",
       "    <tr>\n",
       "      <th>9</th>\n",
       "      <td>[web, email, mobile]</td>\n",
       "      <td>10</td>\n",
       "      <td>7</td>\n",
       "      <td>2906b810c7d4411798c6938adc9daaa5</td>\n",
       "      <td>discount</td>\n",
       "      <td>2</td>\n",
       "    </tr>\n",
       "  </tbody>\n",
       "</table>\n",
       "</div>"
      ],
      "text/plain": [
       "                       channels  difficulty  duration  \\\n",
       "0       [email, mobile, social]          10         7   \n",
       "1  [web, email, mobile, social]          10         5   \n",
       "2          [web, email, mobile]           0         4   \n",
       "3          [web, email, mobile]           5         7   \n",
       "4                  [web, email]          20        10   \n",
       "5  [web, email, mobile, social]           7         7   \n",
       "6  [web, email, mobile, social]          10        10   \n",
       "7       [email, mobile, social]           0         3   \n",
       "8  [web, email, mobile, social]           5         5   \n",
       "9          [web, email, mobile]          10         7   \n",
       "\n",
       "                                 id     offer_type  reward  \n",
       "0  ae264e3637204a6fb9bb56bc8210ddfd           bogo      10  \n",
       "1  4d5c57ea9a6940dd891ad53e9dbe8da0           bogo      10  \n",
       "2  3f207df678b143eea3cee63160fa8bed  informational       0  \n",
       "3  9b98b8c7a33c4b65b9aebfe6a799e6d9           bogo       5  \n",
       "4  0b1e1539f2cc45b7b9fa7c272da2e1d7       discount       5  \n",
       "5  2298d6c36e964ae4a3e7e9706d1fb8c2       discount       3  \n",
       "6  fafdcd668e3743c1bb461111dcafc2a4       discount       2  \n",
       "7  5a8bc65990b245e5a138643cd4eb9837  informational       0  \n",
       "8  f19421c1d4aa40978ebb69ca19b0e20d           bogo       5  \n",
       "9  2906b810c7d4411798c6938adc9daaa5       discount       2  "
      ]
     },
     "execution_count": 2,
     "metadata": {},
     "output_type": "execute_result"
    }
   ],
   "source": [
    "portfolio"
   ]
  },
  {
   "cell_type": "markdown",
   "metadata": {},
   "source": [
    "We will perform pre-processing for this dataframe as follow :\n",
    "- The channels columns require to be one-hot encoded.\n",
    "- Add offer name rather than only using offer ids for interpretation later on. The offer will be named as `offer_type` _ `difficulty` _ `reward` _ `duration`. For example, `bogo_10_10_7` means offer type of bogo with difficulty of 10 dollar, reward of 10 dollar, and duration for 7 days\n"
   ]
  },
  {
   "cell_type": "code",
   "execution_count": 3,
   "metadata": {},
   "outputs": [],
   "source": [
    "#function for cleaning portfolio\n",
    "\n",
    "def add_portfolio_name(portfolio_df):\n",
    "    #provide portfolio name instead of id for interpretation later on\n",
    "\n",
    "    portfolio_df['name'] = portfolio_df.offer_type.astype(str) + \"_\" + portfolio_df.difficulty.astype(str) +\\\n",
    "                      \"_\" + portfolio_df.reward.astype(str) + \\\n",
    "                     \"_\" + portfolio_df.duration.astype(str)\n",
    "    return portfolio_df\n",
    "\n",
    "def one_hot_channels(portfolio_df):\n",
    "    #one hot encoded channels columns\n",
    "    channels = ['web', 'email', 'mobile', 'social']\n",
    "\n",
    "    for channel in channels:\n",
    "        portfolio_df[channel] = portfolio_df.channels.apply(lambda x: channel in x)*1\n",
    "\n",
    "    #drop channels column\n",
    "    portfolio_df = portfolio_df.drop('channels', axis=1)\n",
    "    \n",
    "    return portfolio_df\n",
    "\n",
    "def portfolio_preprocessing(portfolio_df):\n",
    "    # portfolio preporcessing function, execute : add_portfolio_name and one_hot_channels\n",
    "    \n",
    "    portfolio_df = add_portfolio_name(portfolio_df)\n",
    "    # one_hot_channels\n",
    "    portfolio_df = one_hot_channels(portfolio_df)\n",
    "    return portfolio_df"
   ]
  },
  {
   "cell_type": "code",
   "execution_count": 4,
   "metadata": {},
   "outputs": [],
   "source": [
    "portfolio_clean = portfolio_preprocessing(portfolio)"
   ]
  },
  {
   "cell_type": "code",
   "execution_count": 5,
   "metadata": {},
   "outputs": [
    {
     "data": {
      "text/html": [
       "<div>\n",
       "<style scoped>\n",
       "    .dataframe tbody tr th:only-of-type {\n",
       "        vertical-align: middle;\n",
       "    }\n",
       "\n",
       "    .dataframe tbody tr th {\n",
       "        vertical-align: top;\n",
       "    }\n",
       "\n",
       "    .dataframe thead th {\n",
       "        text-align: right;\n",
       "    }\n",
       "</style>\n",
       "<table border=\"1\" class=\"dataframe\">\n",
       "  <thead>\n",
       "    <tr style=\"text-align: right;\">\n",
       "      <th></th>\n",
       "      <th>difficulty</th>\n",
       "      <th>duration</th>\n",
       "      <th>id</th>\n",
       "      <th>offer_type</th>\n",
       "      <th>reward</th>\n",
       "      <th>name</th>\n",
       "      <th>web</th>\n",
       "      <th>email</th>\n",
       "      <th>mobile</th>\n",
       "      <th>social</th>\n",
       "    </tr>\n",
       "  </thead>\n",
       "  <tbody>\n",
       "    <tr>\n",
       "      <th>0</th>\n",
       "      <td>10</td>\n",
       "      <td>7</td>\n",
       "      <td>ae264e3637204a6fb9bb56bc8210ddfd</td>\n",
       "      <td>bogo</td>\n",
       "      <td>10</td>\n",
       "      <td>bogo_10_10_7</td>\n",
       "      <td>0</td>\n",
       "      <td>1</td>\n",
       "      <td>1</td>\n",
       "      <td>1</td>\n",
       "    </tr>\n",
       "    <tr>\n",
       "      <th>1</th>\n",
       "      <td>10</td>\n",
       "      <td>5</td>\n",
       "      <td>4d5c57ea9a6940dd891ad53e9dbe8da0</td>\n",
       "      <td>bogo</td>\n",
       "      <td>10</td>\n",
       "      <td>bogo_10_10_5</td>\n",
       "      <td>1</td>\n",
       "      <td>1</td>\n",
       "      <td>1</td>\n",
       "      <td>1</td>\n",
       "    </tr>\n",
       "    <tr>\n",
       "      <th>2</th>\n",
       "      <td>0</td>\n",
       "      <td>4</td>\n",
       "      <td>3f207df678b143eea3cee63160fa8bed</td>\n",
       "      <td>informational</td>\n",
       "      <td>0</td>\n",
       "      <td>informational_0_0_4</td>\n",
       "      <td>1</td>\n",
       "      <td>1</td>\n",
       "      <td>1</td>\n",
       "      <td>0</td>\n",
       "    </tr>\n",
       "    <tr>\n",
       "      <th>3</th>\n",
       "      <td>5</td>\n",
       "      <td>7</td>\n",
       "      <td>9b98b8c7a33c4b65b9aebfe6a799e6d9</td>\n",
       "      <td>bogo</td>\n",
       "      <td>5</td>\n",
       "      <td>bogo_5_5_7</td>\n",
       "      <td>1</td>\n",
       "      <td>1</td>\n",
       "      <td>1</td>\n",
       "      <td>0</td>\n",
       "    </tr>\n",
       "    <tr>\n",
       "      <th>4</th>\n",
       "      <td>20</td>\n",
       "      <td>10</td>\n",
       "      <td>0b1e1539f2cc45b7b9fa7c272da2e1d7</td>\n",
       "      <td>discount</td>\n",
       "      <td>5</td>\n",
       "      <td>discount_20_5_10</td>\n",
       "      <td>1</td>\n",
       "      <td>1</td>\n",
       "      <td>0</td>\n",
       "      <td>0</td>\n",
       "    </tr>\n",
       "    <tr>\n",
       "      <th>5</th>\n",
       "      <td>7</td>\n",
       "      <td>7</td>\n",
       "      <td>2298d6c36e964ae4a3e7e9706d1fb8c2</td>\n",
       "      <td>discount</td>\n",
       "      <td>3</td>\n",
       "      <td>discount_7_3_7</td>\n",
       "      <td>1</td>\n",
       "      <td>1</td>\n",
       "      <td>1</td>\n",
       "      <td>1</td>\n",
       "    </tr>\n",
       "    <tr>\n",
       "      <th>6</th>\n",
       "      <td>10</td>\n",
       "      <td>10</td>\n",
       "      <td>fafdcd668e3743c1bb461111dcafc2a4</td>\n",
       "      <td>discount</td>\n",
       "      <td>2</td>\n",
       "      <td>discount_10_2_10</td>\n",
       "      <td>1</td>\n",
       "      <td>1</td>\n",
       "      <td>1</td>\n",
       "      <td>1</td>\n",
       "    </tr>\n",
       "    <tr>\n",
       "      <th>7</th>\n",
       "      <td>0</td>\n",
       "      <td>3</td>\n",
       "      <td>5a8bc65990b245e5a138643cd4eb9837</td>\n",
       "      <td>informational</td>\n",
       "      <td>0</td>\n",
       "      <td>informational_0_0_3</td>\n",
       "      <td>0</td>\n",
       "      <td>1</td>\n",
       "      <td>1</td>\n",
       "      <td>1</td>\n",
       "    </tr>\n",
       "    <tr>\n",
       "      <th>8</th>\n",
       "      <td>5</td>\n",
       "      <td>5</td>\n",
       "      <td>f19421c1d4aa40978ebb69ca19b0e20d</td>\n",
       "      <td>bogo</td>\n",
       "      <td>5</td>\n",
       "      <td>bogo_5_5_5</td>\n",
       "      <td>1</td>\n",
       "      <td>1</td>\n",
       "      <td>1</td>\n",
       "      <td>1</td>\n",
       "    </tr>\n",
       "    <tr>\n",
       "      <th>9</th>\n",
       "      <td>10</td>\n",
       "      <td>7</td>\n",
       "      <td>2906b810c7d4411798c6938adc9daaa5</td>\n",
       "      <td>discount</td>\n",
       "      <td>2</td>\n",
       "      <td>discount_10_2_7</td>\n",
       "      <td>1</td>\n",
       "      <td>1</td>\n",
       "      <td>1</td>\n",
       "      <td>0</td>\n",
       "    </tr>\n",
       "  </tbody>\n",
       "</table>\n",
       "</div>"
      ],
      "text/plain": [
       "   difficulty  duration                                id     offer_type  \\\n",
       "0          10         7  ae264e3637204a6fb9bb56bc8210ddfd           bogo   \n",
       "1          10         5  4d5c57ea9a6940dd891ad53e9dbe8da0           bogo   \n",
       "2           0         4  3f207df678b143eea3cee63160fa8bed  informational   \n",
       "3           5         7  9b98b8c7a33c4b65b9aebfe6a799e6d9           bogo   \n",
       "4          20        10  0b1e1539f2cc45b7b9fa7c272da2e1d7       discount   \n",
       "5           7         7  2298d6c36e964ae4a3e7e9706d1fb8c2       discount   \n",
       "6          10        10  fafdcd668e3743c1bb461111dcafc2a4       discount   \n",
       "7           0         3  5a8bc65990b245e5a138643cd4eb9837  informational   \n",
       "8           5         5  f19421c1d4aa40978ebb69ca19b0e20d           bogo   \n",
       "9          10         7  2906b810c7d4411798c6938adc9daaa5       discount   \n",
       "\n",
       "   reward                 name  web  email  mobile  social  \n",
       "0      10         bogo_10_10_7    0      1       1       1  \n",
       "1      10         bogo_10_10_5    1      1       1       1  \n",
       "2       0  informational_0_0_4    1      1       1       0  \n",
       "3       5           bogo_5_5_7    1      1       1       0  \n",
       "4       5     discount_20_5_10    1      1       0       0  \n",
       "5       3       discount_7_3_7    1      1       1       1  \n",
       "6       2     discount_10_2_10    1      1       1       1  \n",
       "7       0  informational_0_0_3    0      1       1       1  \n",
       "8       5           bogo_5_5_5    1      1       1       1  \n",
       "9       2      discount_10_2_7    1      1       1       0  "
      ]
     },
     "execution_count": 5,
     "metadata": {},
     "output_type": "execute_result"
    }
   ],
   "source": [
    "portfolio_clean"
   ]
  },
  {
   "cell_type": "code",
   "execution_count": 85,
   "metadata": {},
   "outputs": [
    {
     "data": {
      "text/plain": [
       "discount         4\n",
       "bogo             4\n",
       "informational    2\n",
       "Name: offer_type, dtype: int64"
      ]
     },
     "execution_count": 85,
     "metadata": {},
     "output_type": "execute_result"
    }
   ],
   "source": [
    "# offer type distribution\n",
    "portfolio_clean.offer_type.value_counts()#.plot(kind='bar')"
   ]
  },
  {
   "cell_type": "code",
   "execution_count": 86,
   "metadata": {},
   "outputs": [
    {
     "data": {
      "image/png": "[encoded data removed]",
      "text/plain": [
       "<Figure size 432x288 with 4 Axes>"
      ]
     },
     "metadata": {
      "needs_background": "light"
     },
     "output_type": "display_data"
    }
   ],
   "source": [
    "# distribution of portfolio difficulty, reward, and duration\n",
    "portfolio_clean[['difficulty', 'reward', 'duration']].hist();\n",
    "plt.tight_layout()"
   ]
  },
  {
   "cell_type": "code",
   "execution_count": 9,
   "metadata": {},
   "outputs": [
    {
     "data": {
      "text/plain": [
       "web        8\n",
       "email     10\n",
       "mobile     9\n",
       "social     6\n",
       "dtype: int64"
      ]
     },
     "execution_count": 9,
     "metadata": {},
     "output_type": "execute_result"
    }
   ],
   "source": [
    "channels = ['web', 'email', 'mobile', 'social']\n",
    "portfolio_clean.groupby('offer_type').sum()[channels].sum()"
   ]
  },
  {
   "cell_type": "code",
   "execution_count": 7,
   "metadata": {},
   "outputs": [
    {
     "data": {
      "text/plain": [
       "<matplotlib.axes._subplots.AxesSubplot at 0x1a21c6b6d8>"
      ]
     },
     "execution_count": 7,
     "metadata": {},
     "output_type": "execute_result"
    },
    {
     "data": {
      "image/png": "[encoded data removed]",
      "text/plain": [
       "<Figure size 432x288 with 1 Axes>"
      ]
     },
     "metadata": {
      "needs_background": "light"
     },
     "output_type": "display_data"
    }
   ],
   "source": [
    "# offer type distribution by channels\n",
    "channels = ['web', 'email', 'mobile', 'social']\n",
    "portfolio_clean.groupby('offer_type').sum()[channels].plot(kind='bar')"
   ]
  },
  {
   "cell_type": "markdown",
   "metadata": {},
   "source": [
    "## 4.2. Profile"
   ]
  },
  {
   "cell_type": "code",
   "execution_count": 6,
   "metadata": {},
   "outputs": [
    {
     "data": {
      "text/html": [
       "<div>\n",
       "<style scoped>\n",
       "    .dataframe tbody tr th:only-of-type {\n",
       "        vertical-align: middle;\n",
       "    }\n",
       "\n",
       "    .dataframe tbody tr th {\n",
       "        vertical-align: top;\n",
       "    }\n",
       "\n",
       "    .dataframe thead th {\n",
       "        text-align: right;\n",
       "    }\n",
       "</style>\n",
       "<table border=\"1\" class=\"dataframe\">\n",
       "  <thead>\n",
       "    <tr style=\"text-align: right;\">\n",
       "      <th></th>\n",
       "      <th>age</th>\n",
       "      <th>became_member_on</th>\n",
       "      <th>gender</th>\n",
       "      <th>id</th>\n",
       "      <th>income</th>\n",
       "    </tr>\n",
       "  </thead>\n",
       "  <tbody>\n",
       "    <tr>\n",
       "      <th>0</th>\n",
       "      <td>118</td>\n",
       "      <td>20170212</td>\n",
       "      <td>None</td>\n",
       "      <td>68be06ca386d4c31939f3a4f0e3dd783</td>\n",
       "      <td>NaN</td>\n",
       "    </tr>\n",
       "    <tr>\n",
       "      <th>1</th>\n",
       "      <td>55</td>\n",
       "      <td>20170715</td>\n",
       "      <td>F</td>\n",
       "      <td>0610b486422d4921ae7d2bf64640c50b</td>\n",
       "      <td>112000.0</td>\n",
       "    </tr>\n",
       "    <tr>\n",
       "      <th>2</th>\n",
       "      <td>118</td>\n",
       "      <td>20180712</td>\n",
       "      <td>None</td>\n",
       "      <td>38fe809add3b4fcf9315a9694bb96ff5</td>\n",
       "      <td>NaN</td>\n",
       "    </tr>\n",
       "    <tr>\n",
       "      <th>3</th>\n",
       "      <td>75</td>\n",
       "      <td>20170509</td>\n",
       "      <td>F</td>\n",
       "      <td>78afa995795e4d85b5d9ceeca43f5fef</td>\n",
       "      <td>100000.0</td>\n",
       "    </tr>\n",
       "    <tr>\n",
       "      <th>4</th>\n",
       "      <td>118</td>\n",
       "      <td>20170804</td>\n",
       "      <td>None</td>\n",
       "      <td>a03223e636434f42ac4c3df47e8bac43</td>\n",
       "      <td>NaN</td>\n",
       "    </tr>\n",
       "  </tbody>\n",
       "</table>\n",
       "</div>"
      ],
      "text/plain": [
       "   age  became_member_on gender                                id    income\n",
       "0  118          20170212   None  68be06ca386d4c31939f3a4f0e3dd783       NaN\n",
       "1   55          20170715      F  0610b486422d4921ae7d2bf64640c50b  112000.0\n",
       "2  118          20180712   None  38fe809add3b4fcf9315a9694bb96ff5       NaN\n",
       "3   75          20170509      F  78afa995795e4d85b5d9ceeca43f5fef  100000.0\n",
       "4  118          20170804   None  a03223e636434f42ac4c3df47e8bac43       NaN"
      ]
     },
     "execution_count": 6,
     "metadata": {},
     "output_type": "execute_result"
    }
   ],
   "source": [
    "profile.head()"
   ]
  },
  {
   "cell_type": "code",
   "execution_count": 40,
   "metadata": {},
   "outputs": [
    {
     "name": "stdout",
     "output_type": "stream",
     "text": [
      "<class 'pandas.core.frame.DataFrame'>\n",
      "RangeIndex: 17000 entries, 0 to 16999\n",
      "Data columns (total 5 columns):\n",
      "age                 17000 non-null int64\n",
      "became_member_on    17000 non-null int64\n",
      "gender              14825 non-null object\n",
      "id                  17000 non-null object\n",
      "income              14825 non-null float64\n",
      "dtypes: float64(1), int64(2), object(2)\n",
      "memory usage: 664.1+ KB\n"
     ]
    }
   ],
   "source": [
    "profile.info()"
   ]
  },
  {
   "cell_type": "markdown",
   "metadata": {},
   "source": [
    "`became_member_on` data type is in int64, we want to parse it to dates."
   ]
  },
  {
   "cell_type": "code",
   "execution_count": 7,
   "metadata": {},
   "outputs": [
    {
     "name": "stdout",
     "output_type": "stream",
     "text": [
      "There are 17000 profiles in profile dataframe\n"
     ]
    }
   ],
   "source": [
    "print(f'There are {profile.shape[0]} profiles in profile dataframe')"
   ]
  },
  {
   "cell_type": "code",
   "execution_count": 14,
   "metadata": {},
   "outputs": [
    {
     "data": {
      "text/html": [
       "<div>\n",
       "<style scoped>\n",
       "    .dataframe tbody tr th:only-of-type {\n",
       "        vertical-align: middle;\n",
       "    }\n",
       "\n",
       "    .dataframe tbody tr th {\n",
       "        vertical-align: top;\n",
       "    }\n",
       "\n",
       "    .dataframe thead th {\n",
       "        text-align: right;\n",
       "    }\n",
       "</style>\n",
       "<table border=\"1\" class=\"dataframe\">\n",
       "  <thead>\n",
       "    <tr style=\"text-align: right;\">\n",
       "      <th></th>\n",
       "      <th>age</th>\n",
       "      <th>income</th>\n",
       "    </tr>\n",
       "  </thead>\n",
       "  <tbody>\n",
       "    <tr>\n",
       "      <th>count</th>\n",
       "      <td>17000.000000</td>\n",
       "      <td>14825.000000</td>\n",
       "    </tr>\n",
       "    <tr>\n",
       "      <th>mean</th>\n",
       "      <td>62.531412</td>\n",
       "      <td>65404.991568</td>\n",
       "    </tr>\n",
       "    <tr>\n",
       "      <th>std</th>\n",
       "      <td>26.738580</td>\n",
       "      <td>21598.299410</td>\n",
       "    </tr>\n",
       "    <tr>\n",
       "      <th>min</th>\n",
       "      <td>18.000000</td>\n",
       "      <td>30000.000000</td>\n",
       "    </tr>\n",
       "    <tr>\n",
       "      <th>25%</th>\n",
       "      <td>45.000000</td>\n",
       "      <td>49000.000000</td>\n",
       "    </tr>\n",
       "    <tr>\n",
       "      <th>50%</th>\n",
       "      <td>58.000000</td>\n",
       "      <td>64000.000000</td>\n",
       "    </tr>\n",
       "    <tr>\n",
       "      <th>75%</th>\n",
       "      <td>73.000000</td>\n",
       "      <td>80000.000000</td>\n",
       "    </tr>\n",
       "    <tr>\n",
       "      <th>max</th>\n",
       "      <td>118.000000</td>\n",
       "      <td>120000.000000</td>\n",
       "    </tr>\n",
       "  </tbody>\n",
       "</table>\n",
       "</div>"
      ],
      "text/plain": [
       "                age         income\n",
       "count  17000.000000   14825.000000\n",
       "mean      62.531412   65404.991568\n",
       "std       26.738580   21598.299410\n",
       "min       18.000000   30000.000000\n",
       "25%       45.000000   49000.000000\n",
       "50%       58.000000   64000.000000\n",
       "75%       73.000000   80000.000000\n",
       "max      118.000000  120000.000000"
      ]
     },
     "execution_count": 14,
     "metadata": {},
     "output_type": "execute_result"
    }
   ],
   "source": [
    "profile[['age', 'income']].describe()"
   ]
  },
  {
   "cell_type": "code",
   "execution_count": 16,
   "metadata": {},
   "outputs": [
    {
     "data": {
      "image/png": "[encoded data removed]",
      "text/plain": [
       "<Figure size 720x360 with 4 Axes>"
      ]
     },
     "metadata": {
      "needs_background": "light"
     },
     "output_type": "display_data"
    }
   ],
   "source": [
    "# distribution of age and income column\n",
    "profile[['age', 'income', 'became_member_on']].hist(figsize=(10,5));\n"
   ]
  },
  {
   "cell_type": "code",
   "execution_count": 18,
   "metadata": {
    "scrolled": true
   },
   "outputs": [
    {
     "data": {
      "text/html": [
       "<div>\n",
       "<style scoped>\n",
       "    .dataframe tbody tr th:only-of-type {\n",
       "        vertical-align: middle;\n",
       "    }\n",
       "\n",
       "    .dataframe tbody tr th {\n",
       "        vertical-align: top;\n",
       "    }\n",
       "\n",
       "    .dataframe thead th {\n",
       "        text-align: right;\n",
       "    }\n",
       "</style>\n",
       "<table border=\"1\" class=\"dataframe\">\n",
       "  <thead>\n",
       "    <tr style=\"text-align: right;\">\n",
       "      <th></th>\n",
       "      <th>age</th>\n",
       "      <th>became_member_on</th>\n",
       "      <th>gender</th>\n",
       "      <th>id</th>\n",
       "      <th>income</th>\n",
       "    </tr>\n",
       "  </thead>\n",
       "  <tbody>\n",
       "    <tr>\n",
       "      <th>0</th>\n",
       "      <td>118</td>\n",
       "      <td>20170212</td>\n",
       "      <td>None</td>\n",
       "      <td>68be06ca386d4c31939f3a4f0e3dd783</td>\n",
       "      <td>NaN</td>\n",
       "    </tr>\n",
       "    <tr>\n",
       "      <th>2</th>\n",
       "      <td>118</td>\n",
       "      <td>20180712</td>\n",
       "      <td>None</td>\n",
       "      <td>38fe809add3b4fcf9315a9694bb96ff5</td>\n",
       "      <td>NaN</td>\n",
       "    </tr>\n",
       "    <tr>\n",
       "      <th>4</th>\n",
       "      <td>118</td>\n",
       "      <td>20170804</td>\n",
       "      <td>None</td>\n",
       "      <td>a03223e636434f42ac4c3df47e8bac43</td>\n",
       "      <td>NaN</td>\n",
       "    </tr>\n",
       "    <tr>\n",
       "      <th>6</th>\n",
       "      <td>118</td>\n",
       "      <td>20170925</td>\n",
       "      <td>None</td>\n",
       "      <td>8ec6ce2a7e7949b1bf142def7d0e0586</td>\n",
       "      <td>NaN</td>\n",
       "    </tr>\n",
       "    <tr>\n",
       "      <th>7</th>\n",
       "      <td>118</td>\n",
       "      <td>20171002</td>\n",
       "      <td>None</td>\n",
       "      <td>68617ca6246f4fbc85e91a2a49552598</td>\n",
       "      <td>NaN</td>\n",
       "    </tr>\n",
       "  </tbody>\n",
       "</table>\n",
       "</div>"
      ],
      "text/plain": [
       "   age  became_member_on gender                                id  income\n",
       "0  118          20170212   None  68be06ca386d4c31939f3a4f0e3dd783     NaN\n",
       "2  118          20180712   None  38fe809add3b4fcf9315a9694bb96ff5     NaN\n",
       "4  118          20170804   None  a03223e636434f42ac4c3df47e8bac43     NaN\n",
       "6  118          20170925   None  8ec6ce2a7e7949b1bf142def7d0e0586     NaN\n",
       "7  118          20171002   None  68617ca6246f4fbc85e91a2a49552598     NaN"
      ]
     },
     "execution_count": 18,
     "metadata": {},
     "output_type": "execute_result"
    }
   ],
   "source": [
    "profile[profile.age > 100].head()"
   ]
  },
  {
   "cell_type": "code",
   "execution_count": 21,
   "metadata": {},
   "outputs": [
    {
     "data": {
      "text/plain": [
       "118    2175\n",
       "Name: age, dtype: int64"
      ]
     },
     "execution_count": 21,
     "metadata": {},
     "output_type": "execute_result"
    }
   ],
   "source": [
    "profile[profile.age == 118]['age'].value_counts()"
   ]
  },
  {
   "cell_type": "code",
   "execution_count": 29,
   "metadata": {},
   "outputs": [
    {
     "data": {
      "text/plain": [
       "age                    0\n",
       "became_member_on       0\n",
       "gender              2175\n",
       "id                     0\n",
       "income              2175\n",
       "dtype: int64"
      ]
     },
     "execution_count": 29,
     "metadata": {},
     "output_type": "execute_result"
    }
   ],
   "source": [
    "profile.isnull().sum()"
   ]
  },
  {
   "cell_type": "markdown",
   "metadata": {},
   "source": [
    "#### Age & Income Statistics \n",
    "- The mean age is 62.53 with standard deviation 26.74\n",
    "- The mean income is 65405 dollars with standard deviation 21598 dollars\n",
    "- There were 2175 profiles (12.7%) with age more than 100 years, specifically at 118 age where all missing values in income and gender columns are associated with this profile . This is a **possibility for abnormalities** in the profile data. We will investigate later on whether to remove or keep them."
   ]
  },
  {
   "cell_type": "code",
   "execution_count": 8,
   "metadata": {},
   "outputs": [
    {
     "data": {
      "image/png": "[encoded data removed]",
      "text/plain": [
       "<Figure size 1080x360 with 3 Axes>"
      ]
     },
     "metadata": {
      "needs_background": "light"
     },
     "output_type": "display_data"
    }
   ],
   "source": [
    "\"\"\" GENDER \"\"\"\n",
    "\n",
    "f, (ax1,ax2,ax3) = plt.subplots(1,3, figsize=(15,5))\n",
    "\n",
    "#plot gender distribution histogram\n",
    "profile.gender.value_counts().plot(kind='bar', ax=ax1)\n",
    "ax1.set_xticklabels(ax1.get_xticklabels(), rotation=0)\n",
    "ax1.set_title('Gender Distribution')\n",
    "ax1.set_ylabel('Count')\n",
    "\n",
    "# plot income distribution histogram\n",
    "ax2.hist(profile[profile.gender == 'M']['income'], alpha=0.5, label='M')\n",
    "ax2.hist(profile[profile.gender == 'F']['income'], alpha=0.5, label='F')\n",
    "ax2.hist(profile[profile.gender == 'O']['income'], alpha=0.5, label='O')\n",
    "ax2.set_xlabel('$ Income')\n",
    "ax2.set_ylabel('Count')\n",
    "ax2.set_title('Income Distribution')\n",
    "ax2.legend()\n",
    "\n",
    "# boxplot income distribution\n",
    "sns.boxplot('gender', 'income', data=profile, ax=ax3, order=['M', 'F', 'O'])\n",
    "\n",
    "plt.tight_layout()\n"
   ]
  },
  {
   "cell_type": "code",
   "execution_count": 28,
   "metadata": {},
   "outputs": [
    {
     "data": {
      "text/plain": [
       "age                    0\n",
       "became_member_on       0\n",
       "gender              2175\n",
       "id                     0\n",
       "income              2175\n",
       "dtype: int64"
      ]
     },
     "execution_count": 28,
     "metadata": {},
     "output_type": "execute_result"
    }
   ],
   "source": [
    "profile.isnull().sum()"
   ]
  },
  {
   "cell_type": "code",
   "execution_count": 24,
   "metadata": {},
   "outputs": [
    {
     "data": {
      "text/html": [
       "<div>\n",
       "<style scoped>\n",
       "    .dataframe tbody tr th:only-of-type {\n",
       "        vertical-align: middle;\n",
       "    }\n",
       "\n",
       "    .dataframe tbody tr th {\n",
       "        vertical-align: top;\n",
       "    }\n",
       "\n",
       "    .dataframe thead th {\n",
       "        text-align: right;\n",
       "    }\n",
       "</style>\n",
       "<table border=\"1\" class=\"dataframe\">\n",
       "  <thead>\n",
       "    <tr style=\"text-align: right;\">\n",
       "      <th></th>\n",
       "      <th>count</th>\n",
       "      <th>mean</th>\n",
       "      <th>std</th>\n",
       "      <th>min</th>\n",
       "      <th>25%</th>\n",
       "      <th>50%</th>\n",
       "      <th>75%</th>\n",
       "      <th>max</th>\n",
       "    </tr>\n",
       "    <tr>\n",
       "      <th>gender</th>\n",
       "      <th></th>\n",
       "      <th></th>\n",
       "      <th></th>\n",
       "      <th></th>\n",
       "      <th></th>\n",
       "      <th></th>\n",
       "      <th></th>\n",
       "      <th></th>\n",
       "    </tr>\n",
       "  </thead>\n",
       "  <tbody>\n",
       "    <tr>\n",
       "      <th>F</th>\n",
       "      <td>6129.0</td>\n",
       "      <td>71306.412139</td>\n",
       "      <td>22338.353773</td>\n",
       "      <td>30000.0</td>\n",
       "      <td>54000.0</td>\n",
       "      <td>71000.0</td>\n",
       "      <td>88000.0</td>\n",
       "      <td>120000.0</td>\n",
       "    </tr>\n",
       "    <tr>\n",
       "      <th>M</th>\n",
       "      <td>8484.0</td>\n",
       "      <td>61194.601603</td>\n",
       "      <td>20069.517615</td>\n",
       "      <td>30000.0</td>\n",
       "      <td>45000.0</td>\n",
       "      <td>59000.0</td>\n",
       "      <td>73000.0</td>\n",
       "      <td>120000.0</td>\n",
       "    </tr>\n",
       "    <tr>\n",
       "      <th>O</th>\n",
       "      <td>212.0</td>\n",
       "      <td>63287.735849</td>\n",
       "      <td>18938.594726</td>\n",
       "      <td>30000.0</td>\n",
       "      <td>51000.0</td>\n",
       "      <td>62000.0</td>\n",
       "      <td>79250.0</td>\n",
       "      <td>100000.0</td>\n",
       "    </tr>\n",
       "  </tbody>\n",
       "</table>\n",
       "</div>"
      ],
      "text/plain": [
       "         count          mean           std      min      25%      50%  \\\n",
       "gender                                                                  \n",
       "F       6129.0  71306.412139  22338.353773  30000.0  54000.0  71000.0   \n",
       "M       8484.0  61194.601603  20069.517615  30000.0  45000.0  59000.0   \n",
       "O        212.0  63287.735849  18938.594726  30000.0  51000.0  62000.0   \n",
       "\n",
       "            75%       max  \n",
       "gender                     \n",
       "F       88000.0  120000.0  \n",
       "M       73000.0  120000.0  \n",
       "O       79250.0  100000.0  "
      ]
     },
     "execution_count": 24,
     "metadata": {},
     "output_type": "execute_result"
    }
   ],
   "source": [
    "#statistics income by gender\n",
    "profile.groupby('gender').describe()['income']"
   ]
  },
  {
   "cell_type": "markdown",
   "metadata": {},
   "source": [
    "#### Gender Statistics\n",
    "- Most of customers are males (50%) then followed by females (36%), other gender (1.25%), and unknown gender (12.8%). \n",
    "- the average income of females (71306 dollars) are higher than males (61194 dollars) and other gender (63287 dollars).\n",
    "- There are small amount of 'O' / other genders and their income distribution is quite uniform with average income is higher than males."
   ]
  },
  {
   "cell_type": "markdown",
   "metadata": {},
   "source": [
    "### 4.2.1 Parsing Dates"
   ]
  },
  {
   "cell_type": "code",
   "execution_count": 37,
   "metadata": {
    "scrolled": true
   },
   "outputs": [],
   "source": [
    "#parse dates in became_member_on column\n",
    "\n",
    "def profile_parse_dates(profile_df):\n",
    "    profile_df = profile_df.copy()\n",
    "\n",
    "    #convert to string\n",
    "    profile_df['became_member_on'] = profile_df.became_member_on.apply(lambda x: str(x))\n",
    "    #convert to datetime format\n",
    "    profile_df['became_member_on'] = pd.to_datetime(profile_df.became_member_on)\n",
    "    return profile_df\n",
    "\n",
    "profile_clean = profile_parse_dates(profile)"
   ]
  },
  {
   "cell_type": "code",
   "execution_count": 156,
   "metadata": {},
   "outputs": [
    {
     "name": "stdout",
     "output_type": "stream",
     "text": [
      "<class 'pandas.core.frame.DataFrame'>\n",
      "RangeIndex: 17000 entries, 0 to 16999\n",
      "Data columns (total 5 columns):\n",
      "age                 17000 non-null int64\n",
      "became_member_on    17000 non-null datetime64[ns]\n",
      "gender              14825 non-null object\n",
      "id                  17000 non-null object\n",
      "income              14825 non-null float64\n",
      "dtypes: datetime64[ns](1), float64(1), int64(1), object(2)\n",
      "memory usage: 664.1+ KB\n"
     ]
    }
   ],
   "source": [
    "profile_clean.info()"
   ]
  },
  {
   "cell_type": "code",
   "execution_count": 32,
   "metadata": {},
   "outputs": [
    {
     "data": {
      "text/plain": [
       "Text(0.5,1,'Distribution of became_member_on')"
      ]
     },
     "execution_count": 32,
     "metadata": {},
     "output_type": "execute_result"
    },
    {
     "data": {
      "image/png": "[encoded data removed]",
      "text/plain": [
       "<Figure size 432x288 with 1 Axes>"
      ]
     },
     "metadata": {
      "needs_background": "light"
     },
     "output_type": "display_data"
    }
   ],
   "source": [
    "profile_clean.became_member_on.hist()\n",
    "plt.xlabel('Became member on year')\n",
    "plt.title('Distribution of became_member_on')"
   ]
  },
  {
   "cell_type": "markdown",
   "metadata": {},
   "source": [
    "### 4.2.2 Missing Values "
   ]
  },
  {
   "cell_type": "code",
   "execution_count": 97,
   "metadata": {},
   "outputs": [
    {
     "data": {
      "text/plain": [
       "age                    0\n",
       "became_member_on       0\n",
       "gender              2175\n",
       "id                     0\n",
       "income              2175\n",
       "dtype: int64"
      ]
     },
     "execution_count": 97,
     "metadata": {},
     "output_type": "execute_result"
    }
   ],
   "source": [
    "# how much data is missing in each column of profile dataset \n",
    "profile_clean.isnull().sum()"
   ]
  },
  {
   "cell_type": "code",
   "execution_count": 98,
   "metadata": {},
   "outputs": [
    {
     "data": {
      "text/plain": [
       "0    14825\n",
       "2     2175\n",
       "dtype: int64"
      ]
     },
     "execution_count": 98,
     "metadata": {},
     "output_type": "execute_result"
    }
   ],
   "source": [
    "# How much data is missing in each row of profiile  dataset?\n",
    "row_null = profile_clean.isnull().sum(axis=1)\n",
    "row_null.value_counts()"
   ]
  },
  {
   "cell_type": "code",
   "execution_count": 99,
   "metadata": {},
   "outputs": [
    {
     "data": {
      "image/png": "[encoded data removed]",
      "text/plain": [
       "<Figure size 432x288 with 1 Axes>"
      ]
     },
     "metadata": {
      "needs_background": "light"
     },
     "output_type": "display_data"
    }
   ],
   "source": [
    "# How much data is missing in each row of profiile  dataset?\n",
    "row_null = profile_clean.isnull().sum(axis=1)\n",
    "row_null.value_counts().plot(kind='bar')\n",
    "plt.xlabel('Missing Value')\n",
    "plt.xticks(rotation=0)\n",
    "plt.ylabel('Number of data rows (people)')\n",
    "plt.title('Profiles with missing values')\n",
    "plt.show()"
   ]
  },
  {
   "cell_type": "code",
   "execution_count": 102,
   "metadata": {},
   "outputs": [
    {
     "data": {
      "image/png": "[encoded data removed]",
      "text/plain": [
       "<Figure size 576x288 with 2 Axes>"
      ]
     },
     "metadata": {
      "needs_background": "light"
     },
     "output_type": "display_data"
    },
    {
     "data": {
      "image/png": "[encoded data removed]",
      "text/plain": [
       "<Figure size 576x288 with 2 Axes>"
      ]
     },
     "metadata": {
      "needs_background": "light"
     },
     "output_type": "display_data"
    },
    {
     "data": {
      "image/png": "[encoded data removed]",
      "text/plain": [
       "<Figure size 576x288 with 2 Axes>"
      ]
     },
     "metadata": {
      "needs_background": "light"
     },
     "output_type": "display_data"
    },
    {
     "data": {
      "image/png": "[encoded data removed]",
      "text/plain": [
       "<Figure size 576x288 with 2 Axes>"
      ]
     },
     "metadata": {
      "needs_background": "light"
     },
     "output_type": "display_data"
    }
   ],
   "source": [
    "\"\"\" Comparing data with no missing value and lot of missing values \"\"\"\n",
    "\n",
    "profile_ = profile_clean[row_null ==0]\n",
    "profile_null = profile_clean[row_null > 0]\n",
    "\n",
    "for col in ['age', 'became_member_on','gender', 'income' ]:\n",
    "    row_null = profile_clean.isnull().sum(axis=1)\n",
    "    f, (ax1,ax2) = plt.subplots(1,2, figsize=(8,4))\n",
    "   \n",
    "    if col == 'gender':\n",
    "        profile_[col].value_counts().plot(kind='bar', ax=ax1)\n",
    "        ax1.set_xticklabels(ax1.xaxis.get_majorticklabels(),rotation=0)\n",
    "        try :\n",
    "            profile_null[col].value_counts().plot(kind='bar', ax=ax2)\n",
    "            \n",
    "        except:\n",
    "            pass\n",
    "    else:\n",
    "        profile_[col].hist(ax=ax1)\n",
    "        profile_null[col].hist(ax=ax2)\n",
    "    \n",
    "    ax1.grid(False)\n",
    "    ax2.grid(False)\n",
    "    ax1.set_title('no missing value' )\n",
    "    ax2.set_title('with missing value')\n",
    "    f.suptitle('Feature: ' + col)\n",
    "    f.tight_layout()\n",
    "    f.subplots_adjust(top=0.85)"
   ]
  },
  {
   "cell_type": "markdown",
   "metadata": {},
   "source": [
    "#### Profile Data Summary :\n",
    "1. There were 17000 profiles, 2175 profiles have missing values in gender and income.\n",
    "2. `became_member_on` data type int64, so It requires to be converted to datetimes data type\n",
    "3. There were abnormalities in the profile data where the age is 118 years are associated with all missing values in income and gender columns. There about 2175 profiles. Probably they don't want to share the informations or in this a default age number in the app. We will investigate their spending pattern later on to decide whether to remove or keep them.\n",
    "4. Most of customers are males (50%) then followed by females (36%), other gender (1.25%), and unknown gender (12.8%). However the average income of females (71306 dollars) are higher than males (61194 dollars) and other gender (63287 dollars)."
   ]
  },
  {
   "cell_type": "markdown",
   "metadata": {},
   "source": [
    "## 4.3. Transcript"
   ]
  },
  {
   "cell_type": "code",
   "execution_count": 65,
   "metadata": {},
   "outputs": [
    {
     "name": "stdout",
     "output_type": "stream",
     "text": [
      "There were 306534 data in transcript dataset\n"
     ]
    },
    {
     "data": {
      "text/html": [
       "<div>\n",
       "<style scoped>\n",
       "    .dataframe tbody tr th:only-of-type {\n",
       "        vertical-align: middle;\n",
       "    }\n",
       "\n",
       "    .dataframe tbody tr th {\n",
       "        vertical-align: top;\n",
       "    }\n",
       "\n",
       "    .dataframe thead th {\n",
       "        text-align: right;\n",
       "    }\n",
       "</style>\n",
       "<table border=\"1\" class=\"dataframe\">\n",
       "  <thead>\n",
       "    <tr style=\"text-align: right;\">\n",
       "      <th></th>\n",
       "      <th>event</th>\n",
       "      <th>person</th>\n",
       "      <th>time</th>\n",
       "      <th>value</th>\n",
       "    </tr>\n",
       "  </thead>\n",
       "  <tbody>\n",
       "    <tr>\n",
       "      <th>0</th>\n",
       "      <td>offer received</td>\n",
       "      <td>78afa995795e4d85b5d9ceeca43f5fef</td>\n",
       "      <td>0</td>\n",
       "      <td>{'offer id': '9b98b8c7a33c4b65b9aebfe6a799e6d9'}</td>\n",
       "    </tr>\n",
       "    <tr>\n",
       "      <th>1</th>\n",
       "      <td>offer received</td>\n",
       "      <td>a03223e636434f42ac4c3df47e8bac43</td>\n",
       "      <td>0</td>\n",
       "      <td>{'offer id': '0b1e1539f2cc45b7b9fa7c272da2e1d7'}</td>\n",
       "    </tr>\n",
       "    <tr>\n",
       "      <th>2</th>\n",
       "      <td>offer received</td>\n",
       "      <td>e2127556f4f64592b11af22de27a7932</td>\n",
       "      <td>0</td>\n",
       "      <td>{'offer id': '2906b810c7d4411798c6938adc9daaa5'}</td>\n",
       "    </tr>\n",
       "    <tr>\n",
       "      <th>3</th>\n",
       "      <td>offer received</td>\n",
       "      <td>8ec6ce2a7e7949b1bf142def7d0e0586</td>\n",
       "      <td>0</td>\n",
       "      <td>{'offer id': 'fafdcd668e3743c1bb461111dcafc2a4'}</td>\n",
       "    </tr>\n",
       "    <tr>\n",
       "      <th>4</th>\n",
       "      <td>offer received</td>\n",
       "      <td>68617ca6246f4fbc85e91a2a49552598</td>\n",
       "      <td>0</td>\n",
       "      <td>{'offer id': '4d5c57ea9a6940dd891ad53e9dbe8da0'}</td>\n",
       "    </tr>\n",
       "  </tbody>\n",
       "</table>\n",
       "</div>"
      ],
      "text/plain": [
       "            event                            person  time  \\\n",
       "0  offer received  78afa995795e4d85b5d9ceeca43f5fef     0   \n",
       "1  offer received  a03223e636434f42ac4c3df47e8bac43     0   \n",
       "2  offer received  e2127556f4f64592b11af22de27a7932     0   \n",
       "3  offer received  8ec6ce2a7e7949b1bf142def7d0e0586     0   \n",
       "4  offer received  68617ca6246f4fbc85e91a2a49552598     0   \n",
       "\n",
       "                                              value  \n",
       "0  {'offer id': '9b98b8c7a33c4b65b9aebfe6a799e6d9'}  \n",
       "1  {'offer id': '0b1e1539f2cc45b7b9fa7c272da2e1d7'}  \n",
       "2  {'offer id': '2906b810c7d4411798c6938adc9daaa5'}  \n",
       "3  {'offer id': 'fafdcd668e3743c1bb461111dcafc2a4'}  \n",
       "4  {'offer id': '4d5c57ea9a6940dd891ad53e9dbe8da0'}  "
      ]
     },
     "execution_count": 65,
     "metadata": {},
     "output_type": "execute_result"
    }
   ],
   "source": [
    "print(f'There were {transcript.shape[0]} data in transcript dataset')\n",
    "transcript.head()"
   ]
  },
  {
   "cell_type": "code",
   "execution_count": 15,
   "metadata": {},
   "outputs": [
    {
     "data": {
      "text/html": [
       "<div>\n",
       "<style scoped>\n",
       "    .dataframe tbody tr th:only-of-type {\n",
       "        vertical-align: middle;\n",
       "    }\n",
       "\n",
       "    .dataframe tbody tr th {\n",
       "        vertical-align: top;\n",
       "    }\n",
       "\n",
       "    .dataframe thead th {\n",
       "        text-align: right;\n",
       "    }\n",
       "</style>\n",
       "<table border=\"1\" class=\"dataframe\">\n",
       "  <thead>\n",
       "    <tr style=\"text-align: right;\">\n",
       "      <th></th>\n",
       "      <th>event</th>\n",
       "      <th>person</th>\n",
       "      <th>time</th>\n",
       "      <th>value</th>\n",
       "    </tr>\n",
       "  </thead>\n",
       "  <tbody>\n",
       "    <tr>\n",
       "      <th>306529</th>\n",
       "      <td>transaction</td>\n",
       "      <td>b3a1272bc9904337b331bf348c3e8c17</td>\n",
       "      <td>714</td>\n",
       "      <td>{'amount': 1.5899999999999999}</td>\n",
       "    </tr>\n",
       "    <tr>\n",
       "      <th>306530</th>\n",
       "      <td>transaction</td>\n",
       "      <td>68213b08d99a4ae1b0dcb72aebd9aa35</td>\n",
       "      <td>714</td>\n",
       "      <td>{'amount': 9.53}</td>\n",
       "    </tr>\n",
       "    <tr>\n",
       "      <th>306531</th>\n",
       "      <td>transaction</td>\n",
       "      <td>a00058cf10334a308c68e7631c529907</td>\n",
       "      <td>714</td>\n",
       "      <td>{'amount': 3.61}</td>\n",
       "    </tr>\n",
       "    <tr>\n",
       "      <th>306532</th>\n",
       "      <td>transaction</td>\n",
       "      <td>76ddbd6576844afe811f1a3c0fbb5bec</td>\n",
       "      <td>714</td>\n",
       "      <td>{'amount': 3.5300000000000002}</td>\n",
       "    </tr>\n",
       "    <tr>\n",
       "      <th>306533</th>\n",
       "      <td>transaction</td>\n",
       "      <td>c02b10e8752c4d8e9b73f918558531f7</td>\n",
       "      <td>714</td>\n",
       "      <td>{'amount': 4.05}</td>\n",
       "    </tr>\n",
       "  </tbody>\n",
       "</table>\n",
       "</div>"
      ],
      "text/plain": [
       "              event                            person  time  \\\n",
       "306529  transaction  b3a1272bc9904337b331bf348c3e8c17   714   \n",
       "306530  transaction  68213b08d99a4ae1b0dcb72aebd9aa35   714   \n",
       "306531  transaction  a00058cf10334a308c68e7631c529907   714   \n",
       "306532  transaction  76ddbd6576844afe811f1a3c0fbb5bec   714   \n",
       "306533  transaction  c02b10e8752c4d8e9b73f918558531f7   714   \n",
       "\n",
       "                                 value  \n",
       "306529  {'amount': 1.5899999999999999}  \n",
       "306530                {'amount': 9.53}  \n",
       "306531                {'amount': 3.61}  \n",
       "306532  {'amount': 3.5300000000000002}  \n",
       "306533                {'amount': 4.05}  "
      ]
     },
     "execution_count": 15,
     "metadata": {},
     "output_type": "execute_result"
    }
   ],
   "source": [
    "transcript.tail()"
   ]
  },
  {
   "cell_type": "code",
   "execution_count": 39,
   "metadata": {},
   "outputs": [
    {
     "name": "stdout",
     "output_type": "stream",
     "text": [
      "<class 'pandas.core.frame.DataFrame'>\n",
      "RangeIndex: 306534 entries, 0 to 306533\n",
      "Data columns (total 4 columns):\n",
      "event     306534 non-null object\n",
      "person    306534 non-null object\n",
      "time      306534 non-null int64\n",
      "value     306534 non-null object\n",
      "dtypes: int64(1), object(3)\n",
      "memory usage: 9.4+ MB\n"
     ]
    }
   ],
   "source": [
    "transcript.info()"
   ]
  },
  {
   "cell_type": "code",
   "execution_count": 41,
   "metadata": {},
   "outputs": [
    {
     "data": {
      "text/html": [
       "<div>\n",
       "<style scoped>\n",
       "    .dataframe tbody tr th:only-of-type {\n",
       "        vertical-align: middle;\n",
       "    }\n",
       "\n",
       "    .dataframe tbody tr th {\n",
       "        vertical-align: top;\n",
       "    }\n",
       "\n",
       "    .dataframe thead th {\n",
       "        text-align: right;\n",
       "    }\n",
       "</style>\n",
       "<table border=\"1\" class=\"dataframe\">\n",
       "  <thead>\n",
       "    <tr style=\"text-align: right;\">\n",
       "      <th></th>\n",
       "      <th>time</th>\n",
       "    </tr>\n",
       "  </thead>\n",
       "  <tbody>\n",
       "    <tr>\n",
       "      <th>count</th>\n",
       "      <td>306534.000000</td>\n",
       "    </tr>\n",
       "    <tr>\n",
       "      <th>mean</th>\n",
       "      <td>366.382940</td>\n",
       "    </tr>\n",
       "    <tr>\n",
       "      <th>std</th>\n",
       "      <td>200.326314</td>\n",
       "    </tr>\n",
       "    <tr>\n",
       "      <th>min</th>\n",
       "      <td>0.000000</td>\n",
       "    </tr>\n",
       "    <tr>\n",
       "      <th>25%</th>\n",
       "      <td>186.000000</td>\n",
       "    </tr>\n",
       "    <tr>\n",
       "      <th>50%</th>\n",
       "      <td>408.000000</td>\n",
       "    </tr>\n",
       "    <tr>\n",
       "      <th>75%</th>\n",
       "      <td>528.000000</td>\n",
       "    </tr>\n",
       "    <tr>\n",
       "      <th>max</th>\n",
       "      <td>714.000000</td>\n",
       "    </tr>\n",
       "  </tbody>\n",
       "</table>\n",
       "</div>"
      ],
      "text/plain": [
       "                time\n",
       "count  306534.000000\n",
       "mean      366.382940\n",
       "std       200.326314\n",
       "min         0.000000\n",
       "25%       186.000000\n",
       "50%       408.000000\n",
       "75%       528.000000\n",
       "max       714.000000"
      ]
     },
     "execution_count": 41,
     "metadata": {},
     "output_type": "execute_result"
    }
   ],
   "source": [
    "transcript.describe()"
   ]
  },
  {
   "cell_type": "code",
   "execution_count": 67,
   "metadata": {},
   "outputs": [
    {
     "data": {
      "text/plain": [
       "event     0\n",
       "person    0\n",
       "time      0\n",
       "value     0\n",
       "dtype: int64"
      ]
     },
     "execution_count": 67,
     "metadata": {},
     "output_type": "execute_result"
    }
   ],
   "source": [
    "#check for missing value\n",
    "transcript.isnull().sum()"
   ]
  },
  {
   "cell_type": "code",
   "execution_count": 32,
   "metadata": {},
   "outputs": [
    {
     "data": {
      "text/plain": [
       "transaction        138953\n",
       "offer received      76277\n",
       "offer viewed        57725\n",
       "offer completed     33579\n",
       "Name: event, dtype: int64"
      ]
     },
     "execution_count": 32,
     "metadata": {},
     "output_type": "execute_result"
    }
   ],
   "source": [
    "transcript.event.value_counts()"
   ]
  },
  {
   "cell_type": "code",
   "execution_count": 35,
   "metadata": {},
   "outputs": [
    {
     "data": {
      "text/plain": [
       "(17000,)"
      ]
     },
     "execution_count": 35,
     "metadata": {},
     "output_type": "execute_result"
    }
   ],
   "source": [
    "# unique profile in transcript match with unique profile in profile data\n",
    "transcript.person.unique().shape"
   ]
  },
  {
   "cell_type": "markdown",
   "metadata": {},
   "source": [
    "#### Transcript Data :\n",
    "- There were 306534 data in transcript dataset\n",
    "- Most data related to event `transaction`, followed by `offer recevied`, `offer viewed`, and `offer completed`.\n",
    "- All profiles in profile data is available in transcript data.\n",
    "- No missing values"
   ]
  },
  {
   "cell_type": "markdown",
   "metadata": {},
   "source": [
    "### 4.3.1. Transcript Preprocessing"
   ]
  },
  {
   "cell_type": "markdown",
   "metadata": {},
   "source": [
    "The `value` column consisted of dictionary containing `offer_id` and `amount`. The `offer_id` is related to the `event` of offer received, reviewed, and completed. The `amount` is related to event of transaction.\n",
    "\n",
    "Therefore, this column will be encoded and added 2 new columns to contains `offer_id` and transaction `amount`. The profile and portfolio dataframe will be join to the transcript dataframe."
   ]
  },
  {
   "cell_type": "code",
   "execution_count": 31,
   "metadata": {},
   "outputs": [
    {
     "data": {
      "text/html": [
       "<div>\n",
       "<style scoped>\n",
       "    .dataframe tbody tr th:only-of-type {\n",
       "        vertical-align: middle;\n",
       "    }\n",
       "\n",
       "    .dataframe tbody tr th {\n",
       "        vertical-align: top;\n",
       "    }\n",
       "\n",
       "    .dataframe thead th {\n",
       "        text-align: right;\n",
       "    }\n",
       "</style>\n",
       "<table border=\"1\" class=\"dataframe\">\n",
       "  <thead>\n",
       "    <tr style=\"text-align: right;\">\n",
       "      <th></th>\n",
       "      <th>event</th>\n",
       "      <th>person</th>\n",
       "      <th>time</th>\n",
       "      <th>value</th>\n",
       "      <th>offer_id</th>\n",
       "      <th>amount</th>\n",
       "    </tr>\n",
       "  </thead>\n",
       "  <tbody>\n",
       "    <tr>\n",
       "      <th>0</th>\n",
       "      <td>offer received</td>\n",
       "      <td>78afa995795e4d85b5d9ceeca43f5fef</td>\n",
       "      <td>0</td>\n",
       "      <td>{'offer id': '9b98b8c7a33c4b65b9aebfe6a799e6d9'}</td>\n",
       "      <td>9b98b8c7a33c4b65b9aebfe6a799e6d9</td>\n",
       "      <td>NaN</td>\n",
       "    </tr>\n",
       "    <tr>\n",
       "      <th>1</th>\n",
       "      <td>offer received</td>\n",
       "      <td>a03223e636434f42ac4c3df47e8bac43</td>\n",
       "      <td>0</td>\n",
       "      <td>{'offer id': '0b1e1539f2cc45b7b9fa7c272da2e1d7'}</td>\n",
       "      <td>0b1e1539f2cc45b7b9fa7c272da2e1d7</td>\n",
       "      <td>NaN</td>\n",
       "    </tr>\n",
       "    <tr>\n",
       "      <th>2</th>\n",
       "      <td>offer received</td>\n",
       "      <td>e2127556f4f64592b11af22de27a7932</td>\n",
       "      <td>0</td>\n",
       "      <td>{'offer id': '2906b810c7d4411798c6938adc9daaa5'}</td>\n",
       "      <td>2906b810c7d4411798c6938adc9daaa5</td>\n",
       "      <td>NaN</td>\n",
       "    </tr>\n",
       "    <tr>\n",
       "      <th>3</th>\n",
       "      <td>offer received</td>\n",
       "      <td>8ec6ce2a7e7949b1bf142def7d0e0586</td>\n",
       "      <td>0</td>\n",
       "      <td>{'offer id': 'fafdcd668e3743c1bb461111dcafc2a4'}</td>\n",
       "      <td>fafdcd668e3743c1bb461111dcafc2a4</td>\n",
       "      <td>NaN</td>\n",
       "    </tr>\n",
       "    <tr>\n",
       "      <th>4</th>\n",
       "      <td>offer received</td>\n",
       "      <td>68617ca6246f4fbc85e91a2a49552598</td>\n",
       "      <td>0</td>\n",
       "      <td>{'offer id': '4d5c57ea9a6940dd891ad53e9dbe8da0'}</td>\n",
       "      <td>4d5c57ea9a6940dd891ad53e9dbe8da0</td>\n",
       "      <td>NaN</td>\n",
       "    </tr>\n",
       "  </tbody>\n",
       "</table>\n",
       "</div>"
      ],
      "text/plain": [
       "            event                            person  time  \\\n",
       "0  offer received  78afa995795e4d85b5d9ceeca43f5fef     0   \n",
       "1  offer received  a03223e636434f42ac4c3df47e8bac43     0   \n",
       "2  offer received  e2127556f4f64592b11af22de27a7932     0   \n",
       "3  offer received  8ec6ce2a7e7949b1bf142def7d0e0586     0   \n",
       "4  offer received  68617ca6246f4fbc85e91a2a49552598     0   \n",
       "\n",
       "                                              value  \\\n",
       "0  {'offer id': '9b98b8c7a33c4b65b9aebfe6a799e6d9'}   \n",
       "1  {'offer id': '0b1e1539f2cc45b7b9fa7c272da2e1d7'}   \n",
       "2  {'offer id': '2906b810c7d4411798c6938adc9daaa5'}   \n",
       "3  {'offer id': 'fafdcd668e3743c1bb461111dcafc2a4'}   \n",
       "4  {'offer id': '4d5c57ea9a6940dd891ad53e9dbe8da0'}   \n",
       "\n",
       "                           offer_id  amount  \n",
       "0  9b98b8c7a33c4b65b9aebfe6a799e6d9     NaN  \n",
       "1  0b1e1539f2cc45b7b9fa7c272da2e1d7     NaN  \n",
       "2  2906b810c7d4411798c6938adc9daaa5     NaN  \n",
       "3  fafdcd668e3743c1bb461111dcafc2a4     NaN  \n",
       "4  4d5c57ea9a6940dd891ad53e9dbe8da0     NaN  "
      ]
     },
     "execution_count": 31,
     "metadata": {},
     "output_type": "execute_result"
    }
   ],
   "source": [
    "\"\"\" Encode offer_id and amount in value column \"\"\"\n",
    "\n",
    "def encode_offer_id(x):\n",
    "    try :\n",
    "        return x['offer id']\n",
    "    except:\n",
    "        return x['offer_id']\n",
    "\n",
    "def transcript_encoded(transcript_df):\n",
    "    transcript_encoded = transcript_df.copy()\n",
    "    transcript_encoded['offer_id'] = transcript[transcript.event.isin(['offer received', 'offer viewed', 'offer completed'])]\\\n",
    "                                                             .value.apply(encode_offer_id)\n",
    "    transcript_encoded['amount'] =  transcript[transcript.event.isin(['transaction'])].value.apply(lambda x: x['amount'])\n",
    "    return transcript_encoded\n",
    "\n",
    "transcript_encoded(transcript).head()"
   ]
  },
  {
   "cell_type": "code",
   "execution_count": 38,
   "metadata": {},
   "outputs": [
    {
     "data": {
      "text/html": [
       "<div>\n",
       "<style scoped>\n",
       "    .dataframe tbody tr th:only-of-type {\n",
       "        vertical-align: middle;\n",
       "    }\n",
       "\n",
       "    .dataframe tbody tr th {\n",
       "        vertical-align: top;\n",
       "    }\n",
       "\n",
       "    .dataframe thead th {\n",
       "        text-align: right;\n",
       "    }\n",
       "</style>\n",
       "<table border=\"1\" class=\"dataframe\">\n",
       "  <thead>\n",
       "    <tr style=\"text-align: right;\">\n",
       "      <th></th>\n",
       "      <th>event</th>\n",
       "      <th>person</th>\n",
       "      <th>time</th>\n",
       "      <th>value</th>\n",
       "      <th>offer_id</th>\n",
       "      <th>amount</th>\n",
       "      <th>age</th>\n",
       "      <th>became_member_on</th>\n",
       "      <th>gender</th>\n",
       "      <th>income</th>\n",
       "      <th>difficulty</th>\n",
       "      <th>duration</th>\n",
       "      <th>offer_type</th>\n",
       "      <th>reward</th>\n",
       "      <th>name</th>\n",
       "      <th>web</th>\n",
       "      <th>email</th>\n",
       "      <th>mobile</th>\n",
       "      <th>social</th>\n",
       "    </tr>\n",
       "  </thead>\n",
       "  <tbody>\n",
       "    <tr>\n",
       "      <th>0</th>\n",
       "      <td>offer received</td>\n",
       "      <td>78afa995795e4d85b5d9ceeca43f5fef</td>\n",
       "      <td>0</td>\n",
       "      <td>{'offer id': '9b98b8c7a33c4b65b9aebfe6a799e6d9'}</td>\n",
       "      <td>9b98b8c7a33c4b65b9aebfe6a799e6d9</td>\n",
       "      <td>NaN</td>\n",
       "      <td>75</td>\n",
       "      <td>2017-05-09</td>\n",
       "      <td>F</td>\n",
       "      <td>100000.0</td>\n",
       "      <td>5.0</td>\n",
       "      <td>7.0</td>\n",
       "      <td>bogo</td>\n",
       "      <td>5.0</td>\n",
       "      <td>bogo_5_5_7</td>\n",
       "      <td>1.0</td>\n",
       "      <td>1.0</td>\n",
       "      <td>1.0</td>\n",
       "      <td>0.0</td>\n",
       "    </tr>\n",
       "    <tr>\n",
       "      <th>1</th>\n",
       "      <td>offer received</td>\n",
       "      <td>a03223e636434f42ac4c3df47e8bac43</td>\n",
       "      <td>0</td>\n",
       "      <td>{'offer id': '0b1e1539f2cc45b7b9fa7c272da2e1d7'}</td>\n",
       "      <td>0b1e1539f2cc45b7b9fa7c272da2e1d7</td>\n",
       "      <td>NaN</td>\n",
       "      <td>118</td>\n",
       "      <td>2017-08-04</td>\n",
       "      <td>None</td>\n",
       "      <td>NaN</td>\n",
       "      <td>20.0</td>\n",
       "      <td>10.0</td>\n",
       "      <td>discount</td>\n",
       "      <td>5.0</td>\n",
       "      <td>discount_20_5_10</td>\n",
       "      <td>1.0</td>\n",
       "      <td>1.0</td>\n",
       "      <td>0.0</td>\n",
       "      <td>0.0</td>\n",
       "    </tr>\n",
       "    <tr>\n",
       "      <th>2</th>\n",
       "      <td>offer received</td>\n",
       "      <td>e2127556f4f64592b11af22de27a7932</td>\n",
       "      <td>0</td>\n",
       "      <td>{'offer id': '2906b810c7d4411798c6938adc9daaa5'}</td>\n",
       "      <td>2906b810c7d4411798c6938adc9daaa5</td>\n",
       "      <td>NaN</td>\n",
       "      <td>68</td>\n",
       "      <td>2018-04-26</td>\n",
       "      <td>M</td>\n",
       "      <td>70000.0</td>\n",
       "      <td>10.0</td>\n",
       "      <td>7.0</td>\n",
       "      <td>discount</td>\n",
       "      <td>2.0</td>\n",
       "      <td>discount_10_2_7</td>\n",
       "      <td>1.0</td>\n",
       "      <td>1.0</td>\n",
       "      <td>1.0</td>\n",
       "      <td>0.0</td>\n",
       "    </tr>\n",
       "    <tr>\n",
       "      <th>3</th>\n",
       "      <td>offer received</td>\n",
       "      <td>8ec6ce2a7e7949b1bf142def7d0e0586</td>\n",
       "      <td>0</td>\n",
       "      <td>{'offer id': 'fafdcd668e3743c1bb461111dcafc2a4'}</td>\n",
       "      <td>fafdcd668e3743c1bb461111dcafc2a4</td>\n",
       "      <td>NaN</td>\n",
       "      <td>118</td>\n",
       "      <td>2017-09-25</td>\n",
       "      <td>None</td>\n",
       "      <td>NaN</td>\n",
       "      <td>10.0</td>\n",
       "      <td>10.0</td>\n",
       "      <td>discount</td>\n",
       "      <td>2.0</td>\n",
       "      <td>discount_10_2_10</td>\n",
       "      <td>1.0</td>\n",
       "      <td>1.0</td>\n",
       "      <td>1.0</td>\n",
       "      <td>1.0</td>\n",
       "    </tr>\n",
       "    <tr>\n",
       "      <th>4</th>\n",
       "      <td>offer received</td>\n",
       "      <td>68617ca6246f4fbc85e91a2a49552598</td>\n",
       "      <td>0</td>\n",
       "      <td>{'offer id': '4d5c57ea9a6940dd891ad53e9dbe8da0'}</td>\n",
       "      <td>4d5c57ea9a6940dd891ad53e9dbe8da0</td>\n",
       "      <td>NaN</td>\n",
       "      <td>118</td>\n",
       "      <td>2017-10-02</td>\n",
       "      <td>None</td>\n",
       "      <td>NaN</td>\n",
       "      <td>10.0</td>\n",
       "      <td>5.0</td>\n",
       "      <td>bogo</td>\n",
       "      <td>10.0</td>\n",
       "      <td>bogo_10_10_5</td>\n",
       "      <td>1.0</td>\n",
       "      <td>1.0</td>\n",
       "      <td>1.0</td>\n",
       "      <td>1.0</td>\n",
       "    </tr>\n",
       "  </tbody>\n",
       "</table>\n",
       "</div>"
      ],
      "text/plain": [
       "            event                            person  time  \\\n",
       "0  offer received  78afa995795e4d85b5d9ceeca43f5fef     0   \n",
       "1  offer received  a03223e636434f42ac4c3df47e8bac43     0   \n",
       "2  offer received  e2127556f4f64592b11af22de27a7932     0   \n",
       "3  offer received  8ec6ce2a7e7949b1bf142def7d0e0586     0   \n",
       "4  offer received  68617ca6246f4fbc85e91a2a49552598     0   \n",
       "\n",
       "                                              value  \\\n",
       "0  {'offer id': '9b98b8c7a33c4b65b9aebfe6a799e6d9'}   \n",
       "1  {'offer id': '0b1e1539f2cc45b7b9fa7c272da2e1d7'}   \n",
       "2  {'offer id': '2906b810c7d4411798c6938adc9daaa5'}   \n",
       "3  {'offer id': 'fafdcd668e3743c1bb461111dcafc2a4'}   \n",
       "4  {'offer id': '4d5c57ea9a6940dd891ad53e9dbe8da0'}   \n",
       "\n",
       "                           offer_id  amount  age became_member_on gender  \\\n",
       "0  9b98b8c7a33c4b65b9aebfe6a799e6d9     NaN   75       2017-05-09      F   \n",
       "1  0b1e1539f2cc45b7b9fa7c272da2e1d7     NaN  118       2017-08-04   None   \n",
       "2  2906b810c7d4411798c6938adc9daaa5     NaN   68       2018-04-26      M   \n",
       "3  fafdcd668e3743c1bb461111dcafc2a4     NaN  118       2017-09-25   None   \n",
       "4  4d5c57ea9a6940dd891ad53e9dbe8da0     NaN  118       2017-10-02   None   \n",
       "\n",
       "     income  difficulty  duration offer_type  reward              name  web  \\\n",
       "0  100000.0         5.0       7.0       bogo     5.0        bogo_5_5_7  1.0   \n",
       "1       NaN        20.0      10.0   discount     5.0  discount_20_5_10  1.0   \n",
       "2   70000.0        10.0       7.0   discount     2.0   discount_10_2_7  1.0   \n",
       "3       NaN        10.0      10.0   discount     2.0  discount_10_2_10  1.0   \n",
       "4       NaN        10.0       5.0       bogo    10.0      bogo_10_10_5  1.0   \n",
       "\n",
       "   email  mobile  social  \n",
       "0    1.0     1.0     0.0  \n",
       "1    1.0     0.0     0.0  \n",
       "2    1.0     1.0     0.0  \n",
       "3    1.0     1.0     1.0  \n",
       "4    1.0     1.0     1.0  "
      ]
     },
     "execution_count": 38,
     "metadata": {},
     "output_type": "execute_result"
    }
   ],
   "source": [
    "\"\"\" join profile, portfolio dataset to transcript dataframe \"\"\"\n",
    "\n",
    "def merge_transcript_profile(transcript_df, profile_df):\n",
    "    profile_df = profile_parse_dates(profile_df)\n",
    "    transcript_encoded_df = transcript_encoded(transcript_df)\n",
    "    transcript_profile_df = pd.merge(transcript_encoded_df, profile_df, left_on=['person'], \n",
    "                                      right_on = ['id'], how ='left')\n",
    "    transcript_profile_df = transcript_profile_df.drop(['id'], axis=1)\n",
    "    \n",
    "    return transcript_profile_df\n",
    "\n",
    "\n",
    "def merge_transcript_profile_portfolio(transcript_df, profile_df, portfolio_df):\n",
    "    portfolio_df = portfolio_preprocessing(portfolio_df)\n",
    "    transcript_profile_df = merge_transcript_profile(transcript_df, profile_df)\n",
    "    transcript_profile_porto = pd.merge(transcript_profile_df, portfolio_df, left_on = 'offer_id', right_on ='id', how='left').drop('id', axis=1)\n",
    "    return transcript_profile_porto\n",
    "\n",
    "\n",
    "transcript_merged = merge_transcript_profile_portfolio(transcript, profile, portfolio)\n",
    "transcript_merged.head()"
   ]
  },
  {
   "cell_type": "markdown",
   "metadata": {},
   "source": [
    "### 4.3.2. Event & Offer Type distribution "
   ]
  },
  {
   "cell_type": "code",
   "execution_count": 34,
   "metadata": {},
   "outputs": [
    {
     "data": {
      "text/plain": [
       "<matplotlib.axes._subplots.AxesSubplot at 0x189c6288fd0>"
      ]
     },
     "execution_count": 34,
     "metadata": {},
     "output_type": "execute_result"
    },
    {
     "data": {
      "image/png": "[encoded data removed]",
      "text/plain": [
       "<Figure size 432x288 with 1 Axes>"
      ]
     },
     "metadata": {
      "needs_background": "light"
     },
     "output_type": "display_data"
    }
   ],
   "source": [
    "\"\"\" the distribution of transcript event type \"\"\"\n",
    "\n",
    "sns.countplot('event', data= transcript_merged)"
   ]
  },
  {
   "cell_type": "code",
   "execution_count": 9,
   "metadata": {},
   "outputs": [
    {
     "data": {
      "text/plain": [
       "<matplotlib.axes._subplots.AxesSubplot at 0x208a6fafb70>"
      ]
     },
     "execution_count": 9,
     "metadata": {},
     "output_type": "execute_result"
    },
    {
     "data": {
      "image/png": "[encoded data removed]",
      "text/plain": [
       "<Figure size 432x288 with 1 Axes>"
      ]
     },
     "metadata": {
      "needs_background": "light"
     },
     "output_type": "display_data"
    }
   ],
   "source": [
    "\"\"\" offer type distribution \"\"\"\n",
    "sns.countplot('offer_type', data= transcript_merged)"
   ]
  },
  {
   "cell_type": "code",
   "execution_count": 36,
   "metadata": {},
   "outputs": [
    {
     "data": {
      "text/plain": [
       "Text(0.5,1,'The distribution of offer name sent to customers')"
      ]
     },
     "execution_count": 36,
     "metadata": {},
     "output_type": "execute_result"
    },
    {
     "data": {
      "image/png": "[encoded data removed]",
      "text/plain": [
       "<Figure size 432x288 with 1 Axes>"
      ]
     },
     "metadata": {
      "needs_background": "light"
     },
     "output_type": "display_data"
    }
   ],
   "source": [
    "\"\"\" The distribuiton of offer sent to customers \"\"\"\n",
    "\n",
    "received = transcript_merged[transcript_merged.event =='offer received']\n",
    "\n",
    "sns.countplot(received['name'])\n",
    "plt.xlabel('Offer Name')\n",
    "plt.xticks(rotation=90)\n",
    "plt.title('The distribution of offer name sent to customers')"
   ]
  },
  {
   "cell_type": "markdown",
   "metadata": {},
   "source": [
    "The distribution of offer sent by starbucks is uniform."
   ]
  },
  {
   "cell_type": "code",
   "execution_count": 254,
   "metadata": {
    "scrolled": false
   },
   "outputs": [
    {
     "data": {
      "image/png": "[encoded data removed]",
      "text/plain": [
       "<Figure size 432x288 with 1 Axes>"
      ]
     },
     "metadata": {
      "needs_background": "light"
     },
     "output_type": "display_data"
    },
    {
     "data": {
      "image/png": "[encoded data removed]",
      "text/plain": [
       "<Figure size 432x288 with 1 Axes>"
      ]
     },
     "metadata": {
      "needs_background": "light"
     },
     "output_type": "display_data"
    },
    {
     "data": {
      "image/png": "[encoded data removed]",
      "text/plain": [
       "<Figure size 432x288 with 1 Axes>"
      ]
     },
     "metadata": {
      "needs_background": "light"
     },
     "output_type": "display_data"
    },
    {
     "data": {
      "image/png": "[encoded data removed]",
      "text/plain": [
       "<Figure size 432x288 with 1 Axes>"
      ]
     },
     "metadata": {
      "needs_background": "light"
     },
     "output_type": "display_data"
    },
    {
     "data": {
      "image/png": "[encoded data removed]",
      "text/plain": [
       "<Figure size 432x288 with 1 Axes>"
      ]
     },
     "metadata": {
      "needs_background": "light"
     },
     "output_type": "display_data"
    },
    {
     "data": {
      "image/png": "[encoded data removed]",
      "text/plain": [
       "<Figure size 432x288 with 1 Axes>"
      ]
     },
     "metadata": {
      "needs_background": "light"
     },
     "output_type": "display_data"
    },
    {
     "data": {
      "image/png": "[encoded data removed]",
      "text/plain": [
       "<Figure size 432x288 with 1 Axes>"
      ]
     },
     "metadata": {
      "needs_background": "light"
     },
     "output_type": "display_data"
    },
    {
     "data": {
      "image/png": "[encoded data removed]",
      "text/plain": [
       "<Figure size 432x288 with 1 Axes>"
      ]
     },
     "metadata": {
      "needs_background": "light"
     },
     "output_type": "display_data"
    },
    {
     "data": {
      "image/png": "[encoded data removed]",
      "text/plain": [
       "<Figure size 432x288 with 1 Axes>"
      ]
     },
     "metadata": {
      "needs_background": "light"
     },
     "output_type": "display_data"
    },
    {
     "data": {
      "image/png": "[encoded data removed]",
      "text/plain": [
       "<Figure size 432x288 with 1 Axes>"
      ]
     },
     "metadata": {
      "needs_background": "light"
     },
     "output_type": "display_data"
    }
   ],
   "source": [
    "\"\"\" The distribution of offer received for each customer (profile) \"\"\"\n",
    "\n",
    "for offer_name in received.name.unique():\n",
    "    received[received.name == offer_name]['person'].value_counts().hist()\n",
    "    plt.xlabel('Number of offer received for each customer')\n",
    "    plt.ylabel('Count')\n",
    "    plt.title('Offer received for :' + offer_name)\n",
    "    plt.show()"
   ]
  },
  {
   "cell_type": "markdown",
   "metadata": {},
   "source": [
    "The distribution of offer received by each customer is similar to all offering type. Some customer received more than 1 time for the same offer."
   ]
  },
  {
   "cell_type": "markdown",
   "metadata": {},
   "source": [
    "### 4.3.3 Spending and Transaction Count"
   ]
  },
  {
   "cell_type": "code",
   "execution_count": 18,
   "metadata": {},
   "outputs": [
    {
     "data": {
      "text/plain": [
       "count    16578.000000\n",
       "mean        13.680266\n",
       "std         16.056763\n",
       "min          0.050000\n",
       "25%          3.181392\n",
       "50%         11.996607\n",
       "75%         20.469643\n",
       "max        451.470000\n",
       "Name: amount, dtype: float64"
      ]
     },
     "execution_count": 18,
     "metadata": {},
     "output_type": "execute_result"
    },
    {
     "data": {
      "image/png": "[encoded data removed]",
      "text/plain": [
       "<Figure size 432x288 with 1 Axes>"
      ]
     },
     "metadata": {
      "needs_background": "light"
     },
     "output_type": "display_data"
    }
   ],
   "source": [
    "\"\"\" Average Spending distribution for each customer \"\"\"\n",
    "\n",
    "transcript_merged.groupby('person')['amount'].mean().hist(bins=50)\n",
    "plt.xlabel('$ Spending')\n",
    "plt.ylabel('Count')\n",
    "plt.title('Average Spending per customer')\n",
    "transcript_merged.groupby('person')['amount'].mean().describe()"
   ]
  },
  {
   "cell_type": "code",
   "execution_count": 30,
   "metadata": {},
   "outputs": [
    {
     "data": {
      "text/plain": [
       "count    17000.000000\n",
       "mean       104.438351\n",
       "std        125.922619\n",
       "min          0.000000\n",
       "25%         21.820000\n",
       "50%         69.405000\n",
       "75%        148.782500\n",
       "max       1608.690000\n",
       "Name: amount, dtype: float64"
      ]
     },
     "execution_count": 30,
     "metadata": {},
     "output_type": "execute_result"
    },
    {
     "data": {
      "image/png": "[encoded data removed]",
      "text/plain": [
       "<Figure size 432x288 with 1 Axes>"
      ]
     },
     "metadata": {
      "needs_background": "light"
     },
     "output_type": "display_data"
    }
   ],
   "source": [
    "\"\"\" Total Spending distribution for each customer \"\"\"\n",
    "\n",
    "transcript_merged.groupby('person')['amount'].sum().hist(bins=50)\n",
    "plt.xlabel('$ Spending')\n",
    "plt.ylabel('Count')\n",
    "plt.title('TOTAL Spending per customer')\n",
    "transcript_merged.groupby('person')['amount'].sum().describe()"
   ]
  },
  {
   "cell_type": "code",
   "execution_count": 31,
   "metadata": {},
   "outputs": [
    {
     "data": {
      "text/plain": [
       "count    17000.000000\n",
       "mean         8.173706\n",
       "std          5.116250\n",
       "min          0.000000\n",
       "25%          4.000000\n",
       "50%          7.000000\n",
       "75%         11.000000\n",
       "max         36.000000\n",
       "Name: amount, dtype: float64"
      ]
     },
     "execution_count": 31,
     "metadata": {},
     "output_type": "execute_result"
    },
    {
     "data": {
      "image/png": "[encoded data removed]",
      "text/plain": [
       "<Figure size 432x288 with 1 Axes>"
      ]
     },
     "metadata": {
      "needs_background": "light"
     },
     "output_type": "display_data"
    }
   ],
   "source": [
    "\"\"\" The distribution of transaction count for each customer \"\"\"\n",
    "\n",
    "transcript_merged.groupby('person')['amount'].count().hist()\n",
    "plt.xlabel('Number of transaction')\n",
    "plt.ylabel('Count')\n",
    "plt.title('The distribution of Number of transaction per customer')\n",
    "transcript_merged.groupby(['person')['amount'].count().describe()"
   ]
  },
  {
   "cell_type": "code",
   "execution_count": 11,
   "metadata": {},
   "outputs": [
    {
     "data": {
      "text/plain": [
       "Text(0.5,0,'gender')"
      ]
     },
     "execution_count": 11,
     "metadata": {},
     "output_type": "execute_result"
    },
    {
     "data": {
      "image/png": "[encoded data removed]",
      "text/plain": [
       "<Figure size 720x360 with 2 Axes>"
      ]
     },
     "metadata": {
      "needs_background": "light"
     },
     "output_type": "display_data"
    }
   ],
   "source": [
    "\"\"\" Average spending by GENDER \"\"\"\n",
    "\n",
    "# assign missing value in gender with 'U' value\n",
    "transcript_merged_ = transcript_merged.copy()\n",
    "transcript_merged_.loc[transcript_merged.gender.isnull(), 'gender'] ='U'\n",
    "\n",
    "#plot\n",
    "f, (ax1, ax2) = plt.subplots(1,2, figsize=(10,5))\n",
    "\n",
    "#plot average spending\n",
    "transcript_merged_.groupby('gender')['amount'].mean()[['M', 'F', 'O', 'U']].plot(kind='bar', ax=ax1);\n",
    "ax1.set_xticklabels(ax1.get_xticklabels(), rotation=0)\n",
    "ax1.set_ylabel(\"$ spending\")\n",
    "ax1.set_title(\"Average $ Spending\");\n",
    "\n",
    "#plot gender distribution\n",
    "profile.fillna('U').gender.value_counts()[['M', 'F', 'O', 'U']].plot(kind='bar', ax=ax2)\n",
    "ax2.set_xticklabels(ax2.get_xticklabels(), rotation=0)\n",
    "plt.title('Gender Distribution');\n",
    "ax2.set_xlabel('gender')"
   ]
  },
  {
   "cell_type": "code",
   "execution_count": 149,
   "metadata": {},
   "outputs": [
    {
     "data": {
      "image/png": "[encoded data removed]",
      "text/plain": [
       "<Figure size 1080x360 with 3 Axes>"
      ]
     },
     "metadata": {
      "needs_background": "light"
     },
     "output_type": "display_data"
    }
   ],
   "source": [
    "\"\"\" The number of transaction by GENDER \"\"\"\n",
    "\n",
    "#plot avg spending\n",
    "f, (ax1, ax2, ax3) = plt.subplots(1,3, figsize=(15,5))\n",
    "transcript_merged_.groupby('gender')['amount'].mean()[['M', 'F', 'O', 'U']].plot(kind='bar', ax=ax1);\n",
    "ax1.set_xticklabels(ax1.get_xticklabels(), rotation=0)\n",
    "ax1.set_ylabel(\"$ spending\")\n",
    "ax1.set_title('The average spending')\n",
    "\n",
    "# plot avg number of transaction\n",
    "\n",
    "transcript_merged_.groupby(['gender', 'amount'])['amount'].count().mean(level=0)[['M', 'F', 'O', 'U']].plot(kind='bar', ax=ax2);\n",
    "ax2.set_xticklabels(ax1.get_xticklabels(), rotation=0);\n",
    "ax2.set_ylabel(\"The average number of transaction\");\n",
    "ax2.set_title(\"The avg number of transaction\");\n",
    "\n",
    "# boxplot income distribution\n",
    "sns.boxplot('gender', 'income', data=profile, ax=ax3, order=['M', 'F', 'O'])\n",
    "ax3.set_title('Income Boxplot')\n",
    "\n",
    "plt.tight_layout()\n"
   ]
  },
  {
   "cell_type": "markdown",
   "metadata": {},
   "source": [
    "The highest average spending is made by females while customer with gender 'O' /other gender is the second highest despite there are only few of them and also only made few transactions. \n",
    "\n",
    "The average spending is correlated with income. The higher the income, the higher the average spending is.\n",
    "\n",
    "The unknown / 'U' gender is the lowest average spending, however they made higher number of transactions than females and others. It may indicate they are a different customer types / demographis and should be assessed separately rather than remove them from dataset. "
   ]
  },
  {
   "cell_type": "markdown",
   "metadata": {},
   "source": [
    "### 4.3.4 Offer Received, Viewed and Completed"
   ]
  },
  {
   "cell_type": "code",
   "execution_count": 152,
   "metadata": {},
   "outputs": [
    {
     "data": {
      "text/plain": [
       "Text(0.5,1,'Portfolio Distribution by Event')"
      ]
     },
     "execution_count": 152,
     "metadata": {},
     "output_type": "execute_result"
    },
    {
     "data": {
      "image/png": "[encoded data removed]",
      "text/plain": [
       "<Figure size 432x432 with 1 Axes>"
      ]
     },
     "metadata": {
      "needs_background": "light"
     },
     "output_type": "display_data"
    }
   ],
   "source": [
    "\"\"\"\n",
    "Portfolio Distribution by event\n",
    "\"\"\"\n",
    "\n",
    "plt.figure(figsize=(6,6))\n",
    "sns.countplot(y='name', hue='event', data=transcript_merged[~transcript_merged.event.isin(['transaction'])]);\n",
    "plt.legend(loc='center left', bbox_to_anchor=(1, 0.5))\n",
    "plt.xticks(rotation=90)\n",
    "plt.ylabel(\"Portfolio Name\")\n",
    "plt.title(\"Portfolio Distribution by Event\")"
   ]
  },
  {
   "cell_type": "code",
   "execution_count": 185,
   "metadata": {
    "scrolled": false
   },
   "outputs": [
    {
     "data": {
      "image/png": "[encoded data removed]",
      "text/plain": [
       "<Figure size 720x432 with 1 Axes>"
      ]
     },
     "metadata": {
      "needs_background": "light"
     },
     "output_type": "display_data"
    }
   ],
   "source": [
    "\"\"\" Portfolio Distribution by event in Fraction \"\"\"\n",
    "\n",
    "event_count = transcript_merged[~transcript_merged.event.isin(['transaction'])].groupby(['name', 'event']).size().unstack()\n",
    "event_count['offer_received_frac'] = event_count['offer received']/ event_count['offer received']\n",
    "event_count['offer_viewed_frac'] = event_count['offer viewed']/ event_count['offer received']\n",
    "event_count['offer_completed_frac'] =  event_count['offer completed']/ event_count['offer received']\n",
    "\n",
    "event_count_frac = event_count[['offer_received_frac','offer_viewed_frac', 'offer_completed_frac']]\n",
    "\n",
    "event_count_stack = event_count_frac.stack().reset_index()\n",
    "\n",
    "plt.figure(figsize=(10,6))\n",
    "sns.barplot(x=0,y='name', hue='event', data=event_count_stack)\n",
    "plt.legend(loc='center left', bbox_to_anchor=(1, 0.5))\n",
    "plt.subplots_adjust(top=0.8)\n",
    "plt.title(\"Before Cleaning : Offer Received, Viewed, and Completed (fraction)\")\n",
    "plt.ylabel('')\n",
    "plt.xlabel('Fraction')\n",
    "\n",
    "plt.tight_layout()"
   ]
  },
  {
   "cell_type": "markdown",
   "metadata": {},
   "source": [
    "### Abnormalities in transcript data :\n",
    "From the figure above, `Bogo 5_5_7` and `Discount_20_5_10` appeared to have higher offer completed than offer viewed. It means that the transaction was not due to the offer and requires  to be cleaned out or separate  for further analysis. "
   ]
  },
  {
   "cell_type": "markdown",
   "metadata": {},
   "source": [
    "### 4.3.5 Transcript Data cleaning \n",
    "\n",
    "The transcript need to be cleaned so it only contained the transcript that was influenced by the offer. There are several transactions that customers commit when they do not opt into the offer, in other words, a user can receive an offer, never actually view the offer, and still complete the offer. For example, a user might receive the \"buy 10 dollars get 2 dollars off offer\", but the user never opens the offer during the 10 day validity period. The customer spends 15 dollars during those ten days. There will be an offer completion record in the data set; however, the customer was not influenced by the offer because the customer never viewed the offer.\n",
    "\n",
    "The offer is completed or valid when the customer received, viewed, and make transaction to completed the offer, otherwise the offer completed is not valid. It is true for discounts and bogos. While for informational offer, there is no offer completed.\n",
    "\n",
    "A cleaning function of `transcript_preprocessing` is created in another file `helpers.py` that will clean all invalid transaction. The function takes `transcript`, `profile` and `portfolio` dataframe and return `transcript_clean` dataframe and `transcript_all` dataframe. The `transcript_clean` dataframe contains only a valid offer completed. The `transcript_all` dataframe contains all transcript as the same of the input with additional columns of `invalid` to mark where the offer completed is invalid \n"
   ]
  },
  {
   "cell_type": "markdown",
   "metadata": {},
   "source": [
    "This is the core alogrithm to find the invalid offer completed\n",
    "\n",
    "```\n",
    "def find_invalid_index(transcript_df, profile_df, portfolio_df):\n",
    "    \"\"\"\n",
    "    INPUT : transcript, profile, portfolio dataframe\n",
    "    RETURN : a list of invalid index in transcript dataframe\n",
    "    \"\"\"\n",
    "    \n",
    "    #merge transcript, profile and portfolio dataframe\n",
    "    trascript_merge_df = merge_transcript_profile_portfolio(transcript_df, profile_df, portfolio_df)\n",
    "\n",
    "    # list of invalid index of offer completed\n",
    "    invalid_index = []\n",
    "\n",
    "    #iterate over profile_id (person)\n",
    "    for profile_id in tqdm(trascript_merge_df.person.unique()):\n",
    "        # take a subest_df for profile_id person\n",
    "        subset_df = trascript_merge_df[trascript_merge_df.person == profile_id]\n",
    "        # take a subset of 'offer completed'\n",
    "        completed_df = subset_df[subset_df.event == 'offer completed']\n",
    "\n",
    "        # iterate over the completed offer_id\n",
    "        for offer in completed_df.offer_id.unique():\n",
    "            # take a subset df of completed offer\n",
    "            comp = completed_df[completed_df.offer_id == offer]\n",
    "            # estimate the offer received time in hours using the offer duration (in days)\n",
    "            start_time = comp.time.values - (comp.duration.values *24)\n",
    "            # the offer completed time\n",
    "            comp_time = comp.time.values\n",
    "            # take the subset within start_time and comp_time\n",
    "            subset = subset_df[(subset_df.time >= start_time[0]) & (subset_df.time <= comp.time.values[0])]\n",
    "            # take only event of offer viewed for the given offer_id\n",
    "            subset_viewed = subset[(subset.event == 'offer viewed') & ( subset.offer_id == offer)]\n",
    "\n",
    "            # check whether subset_viewed is empty or not, if it is empty then the offer completed is not valid\n",
    "            # because the offer is completed before the customer viewed it,\n",
    "            # it means  that the customer was not affected by the portfolio campaign\n",
    "            if subset_viewed.shape[0] == 0 :\n",
    "                invalid_index.extend(comp.index)\n",
    "\n",
    "    return invalid_index\n",
    "```"
   ]
  },
  {
   "cell_type": "code",
   "execution_count": 19,
   "metadata": {},
   "outputs": [],
   "source": [
    "%load_ext autoreload\n",
    "%autoreload 2\n",
    "import helpers as h\n",
    "\n",
    "# re-read read in the json files\n",
    "portfolio = pd.read_json('data/portfolio.json', orient='records', lines=True)\n",
    "profile = pd.read_json('data/profile.json', orient='records', lines=True)\n",
    "transcript = pd.read_json('data/transcript.json', orient='records', lines=True)"
   ]
  },
  {
   "cell_type": "code",
   "execution_count": 20,
   "metadata": {},
   "outputs": [
    {
     "name": "stdout",
     "output_type": "stream",
     "text": [
      "The transcript_clean.csv and transcript_merge.csv file are available at local folder\n"
     ]
    }
   ],
   "source": [
    "transcript_clean, transcript_all = h.transcript_preprocessing(transcript, profile, portfolio)"
   ]
  },
  {
   "cell_type": "code",
   "execution_count": 21,
   "metadata": {},
   "outputs": [
    {
     "data": {
      "text/html": [
       "<div>\n",
       "<style scoped>\n",
       "    .dataframe tbody tr th:only-of-type {\n",
       "        vertical-align: middle;\n",
       "    }\n",
       "\n",
       "    .dataframe tbody tr th {\n",
       "        vertical-align: top;\n",
       "    }\n",
       "\n",
       "    .dataframe thead th {\n",
       "        text-align: right;\n",
       "    }\n",
       "</style>\n",
       "<table border=\"1\" class=\"dataframe\">\n",
       "  <thead>\n",
       "    <tr style=\"text-align: right;\">\n",
       "      <th></th>\n",
       "      <th>event</th>\n",
       "      <th>person</th>\n",
       "      <th>time</th>\n",
       "      <th>value</th>\n",
       "      <th>offer_id</th>\n",
       "      <th>amount</th>\n",
       "      <th>age</th>\n",
       "      <th>became_member_on</th>\n",
       "      <th>gender</th>\n",
       "      <th>income</th>\n",
       "      <th>difficulty</th>\n",
       "      <th>duration</th>\n",
       "      <th>offer_type</th>\n",
       "      <th>reward</th>\n",
       "      <th>name</th>\n",
       "      <th>web</th>\n",
       "      <th>email</th>\n",
       "      <th>mobile</th>\n",
       "      <th>social</th>\n",
       "      <th>invalid</th>\n",
       "    </tr>\n",
       "    <tr>\n",
       "      <th>Unnamed: 0</th>\n",
       "      <th></th>\n",
       "      <th></th>\n",
       "      <th></th>\n",
       "      <th></th>\n",
       "      <th></th>\n",
       "      <th></th>\n",
       "      <th></th>\n",
       "      <th></th>\n",
       "      <th></th>\n",
       "      <th></th>\n",
       "      <th></th>\n",
       "      <th></th>\n",
       "      <th></th>\n",
       "      <th></th>\n",
       "      <th></th>\n",
       "      <th></th>\n",
       "      <th></th>\n",
       "      <th></th>\n",
       "      <th></th>\n",
       "      <th></th>\n",
       "    </tr>\n",
       "  </thead>\n",
       "  <tbody>\n",
       "    <tr>\n",
       "      <th>0</th>\n",
       "      <td>offer received</td>\n",
       "      <td>78afa995795e4d85b5d9ceeca43f5fef</td>\n",
       "      <td>0</td>\n",
       "      <td>{'offer id': '9b98b8c7a33c4b65b9aebfe6a799e6d9'}</td>\n",
       "      <td>9b98b8c7a33c4b65b9aebfe6a799e6d9</td>\n",
       "      <td>NaN</td>\n",
       "      <td>75</td>\n",
       "      <td>2017-05-09</td>\n",
       "      <td>F</td>\n",
       "      <td>100000.0</td>\n",
       "      <td>5.0</td>\n",
       "      <td>7.0</td>\n",
       "      <td>bogo</td>\n",
       "      <td>5.0</td>\n",
       "      <td>bogo_5_5_7</td>\n",
       "      <td>1.0</td>\n",
       "      <td>1.0</td>\n",
       "      <td>1.0</td>\n",
       "      <td>0.0</td>\n",
       "      <td>0.0</td>\n",
       "    </tr>\n",
       "    <tr>\n",
       "      <th>1</th>\n",
       "      <td>offer received</td>\n",
       "      <td>a03223e636434f42ac4c3df47e8bac43</td>\n",
       "      <td>0</td>\n",
       "      <td>{'offer id': '0b1e1539f2cc45b7b9fa7c272da2e1d7'}</td>\n",
       "      <td>0b1e1539f2cc45b7b9fa7c272da2e1d7</td>\n",
       "      <td>NaN</td>\n",
       "      <td>118</td>\n",
       "      <td>2017-08-04</td>\n",
       "      <td>NaN</td>\n",
       "      <td>NaN</td>\n",
       "      <td>20.0</td>\n",
       "      <td>10.0</td>\n",
       "      <td>discount</td>\n",
       "      <td>5.0</td>\n",
       "      <td>discount_20_5_10</td>\n",
       "      <td>1.0</td>\n",
       "      <td>1.0</td>\n",
       "      <td>0.0</td>\n",
       "      <td>0.0</td>\n",
       "      <td>0.0</td>\n",
       "    </tr>\n",
       "    <tr>\n",
       "      <th>2</th>\n",
       "      <td>offer received</td>\n",
       "      <td>e2127556f4f64592b11af22de27a7932</td>\n",
       "      <td>0</td>\n",
       "      <td>{'offer id': '2906b810c7d4411798c6938adc9daaa5'}</td>\n",
       "      <td>2906b810c7d4411798c6938adc9daaa5</td>\n",
       "      <td>NaN</td>\n",
       "      <td>68</td>\n",
       "      <td>2018-04-26</td>\n",
       "      <td>M</td>\n",
       "      <td>70000.0</td>\n",
       "      <td>10.0</td>\n",
       "      <td>7.0</td>\n",
       "      <td>discount</td>\n",
       "      <td>2.0</td>\n",
       "      <td>discount_10_2_7</td>\n",
       "      <td>1.0</td>\n",
       "      <td>1.0</td>\n",
       "      <td>1.0</td>\n",
       "      <td>0.0</td>\n",
       "      <td>0.0</td>\n",
       "    </tr>\n",
       "    <tr>\n",
       "      <th>3</th>\n",
       "      <td>offer received</td>\n",
       "      <td>8ec6ce2a7e7949b1bf142def7d0e0586</td>\n",
       "      <td>0</td>\n",
       "      <td>{'offer id': 'fafdcd668e3743c1bb461111dcafc2a4'}</td>\n",
       "      <td>fafdcd668e3743c1bb461111dcafc2a4</td>\n",
       "      <td>NaN</td>\n",
       "      <td>118</td>\n",
       "      <td>2017-09-25</td>\n",
       "      <td>NaN</td>\n",
       "      <td>NaN</td>\n",
       "      <td>10.0</td>\n",
       "      <td>10.0</td>\n",
       "      <td>discount</td>\n",
       "      <td>2.0</td>\n",
       "      <td>discount_10_2_10</td>\n",
       "      <td>1.0</td>\n",
       "      <td>1.0</td>\n",
       "      <td>1.0</td>\n",
       "      <td>1.0</td>\n",
       "      <td>0.0</td>\n",
       "    </tr>\n",
       "    <tr>\n",
       "      <th>4</th>\n",
       "      <td>offer received</td>\n",
       "      <td>68617ca6246f4fbc85e91a2a49552598</td>\n",
       "      <td>0</td>\n",
       "      <td>{'offer id': '4d5c57ea9a6940dd891ad53e9dbe8da0'}</td>\n",
       "      <td>4d5c57ea9a6940dd891ad53e9dbe8da0</td>\n",
       "      <td>NaN</td>\n",
       "      <td>118</td>\n",
       "      <td>2017-10-02</td>\n",
       "      <td>NaN</td>\n",
       "      <td>NaN</td>\n",
       "      <td>10.0</td>\n",
       "      <td>5.0</td>\n",
       "      <td>bogo</td>\n",
       "      <td>10.0</td>\n",
       "      <td>bogo_10_10_5</td>\n",
       "      <td>1.0</td>\n",
       "      <td>1.0</td>\n",
       "      <td>1.0</td>\n",
       "      <td>1.0</td>\n",
       "      <td>0.0</td>\n",
       "    </tr>\n",
       "  </tbody>\n",
       "</table>\n",
       "</div>"
      ],
      "text/plain": [
       "                     event                            person  time  \\\n",
       "Unnamed: 0                                                           \n",
       "0           offer received  78afa995795e4d85b5d9ceeca43f5fef     0   \n",
       "1           offer received  a03223e636434f42ac4c3df47e8bac43     0   \n",
       "2           offer received  e2127556f4f64592b11af22de27a7932     0   \n",
       "3           offer received  8ec6ce2a7e7949b1bf142def7d0e0586     0   \n",
       "4           offer received  68617ca6246f4fbc85e91a2a49552598     0   \n",
       "\n",
       "                                                       value  \\\n",
       "Unnamed: 0                                                     \n",
       "0           {'offer id': '9b98b8c7a33c4b65b9aebfe6a799e6d9'}   \n",
       "1           {'offer id': '0b1e1539f2cc45b7b9fa7c272da2e1d7'}   \n",
       "2           {'offer id': '2906b810c7d4411798c6938adc9daaa5'}   \n",
       "3           {'offer id': 'fafdcd668e3743c1bb461111dcafc2a4'}   \n",
       "4           {'offer id': '4d5c57ea9a6940dd891ad53e9dbe8da0'}   \n",
       "\n",
       "                                    offer_id  amount  age became_member_on  \\\n",
       "Unnamed: 0                                                                   \n",
       "0           9b98b8c7a33c4b65b9aebfe6a799e6d9     NaN   75       2017-05-09   \n",
       "1           0b1e1539f2cc45b7b9fa7c272da2e1d7     NaN  118       2017-08-04   \n",
       "2           2906b810c7d4411798c6938adc9daaa5     NaN   68       2018-04-26   \n",
       "3           fafdcd668e3743c1bb461111dcafc2a4     NaN  118       2017-09-25   \n",
       "4           4d5c57ea9a6940dd891ad53e9dbe8da0     NaN  118       2017-10-02   \n",
       "\n",
       "           gender    income  difficulty  duration offer_type  reward  \\\n",
       "Unnamed: 0                                                             \n",
       "0               F  100000.0         5.0       7.0       bogo     5.0   \n",
       "1             NaN       NaN        20.0      10.0   discount     5.0   \n",
       "2               M   70000.0        10.0       7.0   discount     2.0   \n",
       "3             NaN       NaN        10.0      10.0   discount     2.0   \n",
       "4             NaN       NaN        10.0       5.0       bogo    10.0   \n",
       "\n",
       "                        name  web  email  mobile  social  invalid  \n",
       "Unnamed: 0                                                         \n",
       "0                 bogo_5_5_7  1.0    1.0     1.0     0.0      0.0  \n",
       "1           discount_20_5_10  1.0    1.0     0.0     0.0      0.0  \n",
       "2            discount_10_2_7  1.0    1.0     1.0     0.0      0.0  \n",
       "3           discount_10_2_10  1.0    1.0     1.0     1.0      0.0  \n",
       "4               bogo_10_10_5  1.0    1.0     1.0     1.0      0.0  "
      ]
     },
     "execution_count": 21,
     "metadata": {},
     "output_type": "execute_result"
    }
   ],
   "source": [
    "transcript_clean.head()"
   ]
  },
  {
   "cell_type": "code",
   "execution_count": 22,
   "metadata": {},
   "outputs": [
    {
     "data": {
      "text/html": [
       "<div>\n",
       "<style scoped>\n",
       "    .dataframe tbody tr th:only-of-type {\n",
       "        vertical-align: middle;\n",
       "    }\n",
       "\n",
       "    .dataframe tbody tr th {\n",
       "        vertical-align: top;\n",
       "    }\n",
       "\n",
       "    .dataframe thead th {\n",
       "        text-align: right;\n",
       "    }\n",
       "</style>\n",
       "<table border=\"1\" class=\"dataframe\">\n",
       "  <thead>\n",
       "    <tr style=\"text-align: right;\">\n",
       "      <th></th>\n",
       "      <th>event</th>\n",
       "      <th>person</th>\n",
       "      <th>time</th>\n",
       "      <th>value</th>\n",
       "      <th>offer_id</th>\n",
       "      <th>amount</th>\n",
       "      <th>age</th>\n",
       "      <th>became_member_on</th>\n",
       "      <th>gender</th>\n",
       "      <th>income</th>\n",
       "      <th>difficulty</th>\n",
       "      <th>duration</th>\n",
       "      <th>offer_type</th>\n",
       "      <th>reward</th>\n",
       "      <th>name</th>\n",
       "      <th>web</th>\n",
       "      <th>email</th>\n",
       "      <th>mobile</th>\n",
       "      <th>social</th>\n",
       "      <th>invalid</th>\n",
       "    </tr>\n",
       "    <tr>\n",
       "      <th>Unnamed: 0</th>\n",
       "      <th></th>\n",
       "      <th></th>\n",
       "      <th></th>\n",
       "      <th></th>\n",
       "      <th></th>\n",
       "      <th></th>\n",
       "      <th></th>\n",
       "      <th></th>\n",
       "      <th></th>\n",
       "      <th></th>\n",
       "      <th></th>\n",
       "      <th></th>\n",
       "      <th></th>\n",
       "      <th></th>\n",
       "      <th></th>\n",
       "      <th></th>\n",
       "      <th></th>\n",
       "      <th></th>\n",
       "      <th></th>\n",
       "      <th></th>\n",
       "    </tr>\n",
       "  </thead>\n",
       "  <tbody>\n",
       "    <tr>\n",
       "      <th>0</th>\n",
       "      <td>offer received</td>\n",
       "      <td>78afa995795e4d85b5d9ceeca43f5fef</td>\n",
       "      <td>0</td>\n",
       "      <td>{'offer id': '9b98b8c7a33c4b65b9aebfe6a799e6d9'}</td>\n",
       "      <td>9b98b8c7a33c4b65b9aebfe6a799e6d9</td>\n",
       "      <td>NaN</td>\n",
       "      <td>75</td>\n",
       "      <td>2017-05-09</td>\n",
       "      <td>F</td>\n",
       "      <td>100000.0</td>\n",
       "      <td>5.0</td>\n",
       "      <td>7.0</td>\n",
       "      <td>bogo</td>\n",
       "      <td>5.0</td>\n",
       "      <td>bogo_5_5_7</td>\n",
       "      <td>1.0</td>\n",
       "      <td>1.0</td>\n",
       "      <td>1.0</td>\n",
       "      <td>0.0</td>\n",
       "      <td>0.0</td>\n",
       "    </tr>\n",
       "    <tr>\n",
       "      <th>1</th>\n",
       "      <td>offer received</td>\n",
       "      <td>a03223e636434f42ac4c3df47e8bac43</td>\n",
       "      <td>0</td>\n",
       "      <td>{'offer id': '0b1e1539f2cc45b7b9fa7c272da2e1d7'}</td>\n",
       "      <td>0b1e1539f2cc45b7b9fa7c272da2e1d7</td>\n",
       "      <td>NaN</td>\n",
       "      <td>118</td>\n",
       "      <td>2017-08-04</td>\n",
       "      <td>NaN</td>\n",
       "      <td>NaN</td>\n",
       "      <td>20.0</td>\n",
       "      <td>10.0</td>\n",
       "      <td>discount</td>\n",
       "      <td>5.0</td>\n",
       "      <td>discount_20_5_10</td>\n",
       "      <td>1.0</td>\n",
       "      <td>1.0</td>\n",
       "      <td>0.0</td>\n",
       "      <td>0.0</td>\n",
       "      <td>0.0</td>\n",
       "    </tr>\n",
       "    <tr>\n",
       "      <th>2</th>\n",
       "      <td>offer received</td>\n",
       "      <td>e2127556f4f64592b11af22de27a7932</td>\n",
       "      <td>0</td>\n",
       "      <td>{'offer id': '2906b810c7d4411798c6938adc9daaa5'}</td>\n",
       "      <td>2906b810c7d4411798c6938adc9daaa5</td>\n",
       "      <td>NaN</td>\n",
       "      <td>68</td>\n",
       "      <td>2018-04-26</td>\n",
       "      <td>M</td>\n",
       "      <td>70000.0</td>\n",
       "      <td>10.0</td>\n",
       "      <td>7.0</td>\n",
       "      <td>discount</td>\n",
       "      <td>2.0</td>\n",
       "      <td>discount_10_2_7</td>\n",
       "      <td>1.0</td>\n",
       "      <td>1.0</td>\n",
       "      <td>1.0</td>\n",
       "      <td>0.0</td>\n",
       "      <td>0.0</td>\n",
       "    </tr>\n",
       "    <tr>\n",
       "      <th>3</th>\n",
       "      <td>offer received</td>\n",
       "      <td>8ec6ce2a7e7949b1bf142def7d0e0586</td>\n",
       "      <td>0</td>\n",
       "      <td>{'offer id': 'fafdcd668e3743c1bb461111dcafc2a4'}</td>\n",
       "      <td>fafdcd668e3743c1bb461111dcafc2a4</td>\n",
       "      <td>NaN</td>\n",
       "      <td>118</td>\n",
       "      <td>2017-09-25</td>\n",
       "      <td>NaN</td>\n",
       "      <td>NaN</td>\n",
       "      <td>10.0</td>\n",
       "      <td>10.0</td>\n",
       "      <td>discount</td>\n",
       "      <td>2.0</td>\n",
       "      <td>discount_10_2_10</td>\n",
       "      <td>1.0</td>\n",
       "      <td>1.0</td>\n",
       "      <td>1.0</td>\n",
       "      <td>1.0</td>\n",
       "      <td>0.0</td>\n",
       "    </tr>\n",
       "    <tr>\n",
       "      <th>4</th>\n",
       "      <td>offer received</td>\n",
       "      <td>68617ca6246f4fbc85e91a2a49552598</td>\n",
       "      <td>0</td>\n",
       "      <td>{'offer id': '4d5c57ea9a6940dd891ad53e9dbe8da0'}</td>\n",
       "      <td>4d5c57ea9a6940dd891ad53e9dbe8da0</td>\n",
       "      <td>NaN</td>\n",
       "      <td>118</td>\n",
       "      <td>2017-10-02</td>\n",
       "      <td>NaN</td>\n",
       "      <td>NaN</td>\n",
       "      <td>10.0</td>\n",
       "      <td>5.0</td>\n",
       "      <td>bogo</td>\n",
       "      <td>10.0</td>\n",
       "      <td>bogo_10_10_5</td>\n",
       "      <td>1.0</td>\n",
       "      <td>1.0</td>\n",
       "      <td>1.0</td>\n",
       "      <td>1.0</td>\n",
       "      <td>0.0</td>\n",
       "    </tr>\n",
       "  </tbody>\n",
       "</table>\n",
       "</div>"
      ],
      "text/plain": [
       "                     event                            person  time  \\\n",
       "Unnamed: 0                                                           \n",
       "0           offer received  78afa995795e4d85b5d9ceeca43f5fef     0   \n",
       "1           offer received  a03223e636434f42ac4c3df47e8bac43     0   \n",
       "2           offer received  e2127556f4f64592b11af22de27a7932     0   \n",
       "3           offer received  8ec6ce2a7e7949b1bf142def7d0e0586     0   \n",
       "4           offer received  68617ca6246f4fbc85e91a2a49552598     0   \n",
       "\n",
       "                                                       value  \\\n",
       "Unnamed: 0                                                     \n",
       "0           {'offer id': '9b98b8c7a33c4b65b9aebfe6a799e6d9'}   \n",
       "1           {'offer id': '0b1e1539f2cc45b7b9fa7c272da2e1d7'}   \n",
       "2           {'offer id': '2906b810c7d4411798c6938adc9daaa5'}   \n",
       "3           {'offer id': 'fafdcd668e3743c1bb461111dcafc2a4'}   \n",
       "4           {'offer id': '4d5c57ea9a6940dd891ad53e9dbe8da0'}   \n",
       "\n",
       "                                    offer_id  amount  age became_member_on  \\\n",
       "Unnamed: 0                                                                   \n",
       "0           9b98b8c7a33c4b65b9aebfe6a799e6d9     NaN   75       2017-05-09   \n",
       "1           0b1e1539f2cc45b7b9fa7c272da2e1d7     NaN  118       2017-08-04   \n",
       "2           2906b810c7d4411798c6938adc9daaa5     NaN   68       2018-04-26   \n",
       "3           fafdcd668e3743c1bb461111dcafc2a4     NaN  118       2017-09-25   \n",
       "4           4d5c57ea9a6940dd891ad53e9dbe8da0     NaN  118       2017-10-02   \n",
       "\n",
       "           gender    income  difficulty  duration offer_type  reward  \\\n",
       "Unnamed: 0                                                             \n",
       "0               F  100000.0         5.0       7.0       bogo     5.0   \n",
       "1             NaN       NaN        20.0      10.0   discount     5.0   \n",
       "2               M   70000.0        10.0       7.0   discount     2.0   \n",
       "3             NaN       NaN        10.0      10.0   discount     2.0   \n",
       "4             NaN       NaN        10.0       5.0       bogo    10.0   \n",
       "\n",
       "                        name  web  email  mobile  social  invalid  \n",
       "Unnamed: 0                                                         \n",
       "0                 bogo_5_5_7  1.0    1.0     1.0     0.0      0.0  \n",
       "1           discount_20_5_10  1.0    1.0     0.0     0.0      0.0  \n",
       "2            discount_10_2_7  1.0    1.0     1.0     0.0      0.0  \n",
       "3           discount_10_2_10  1.0    1.0     1.0     1.0      0.0  \n",
       "4               bogo_10_10_5  1.0    1.0     1.0     1.0      0.0  "
      ]
     },
     "execution_count": 22,
     "metadata": {},
     "output_type": "execute_result"
    }
   ],
   "source": [
    "transcript_all.head()"
   ]
  },
  {
   "cell_type": "code",
   "execution_count": 25,
   "metadata": {},
   "outputs": [
    {
     "data": {
      "text/plain": [
       "<matplotlib.axes._subplots.AxesSubplot at 0x24ee4d27978>"
      ]
     },
     "execution_count": 25,
     "metadata": {},
     "output_type": "execute_result"
    },
    {
     "data": {
      "image/png": "[encoded data removed]",
      "text/plain": [
       "<Figure size 432x288 with 1 Axes>"
      ]
     },
     "metadata": {
      "needs_background": "light"
     },
     "output_type": "display_data"
    }
   ],
   "source": [
    "transcript_all.invalid.hist()"
   ]
  },
  {
   "cell_type": "markdown",
   "metadata": {},
   "source": [
    "### 4.3.6 Visualize Offer Received, Viewed, and Completed"
   ]
  },
  {
   "cell_type": "code",
   "execution_count": 240,
   "metadata": {},
   "outputs": [
    {
     "data": {
      "text/html": [
       "<div>\n",
       "<style scoped>\n",
       "    .dataframe tbody tr th:only-of-type {\n",
       "        vertical-align: middle;\n",
       "    }\n",
       "\n",
       "    .dataframe tbody tr th {\n",
       "        vertical-align: top;\n",
       "    }\n",
       "\n",
       "    .dataframe thead th {\n",
       "        text-align: right;\n",
       "    }\n",
       "</style>\n",
       "<table border=\"1\" class=\"dataframe\">\n",
       "  <thead>\n",
       "    <tr style=\"text-align: right;\">\n",
       "      <th>event</th>\n",
       "      <th>name</th>\n",
       "      <th>offer_type</th>\n",
       "      <th>offer_received_frac</th>\n",
       "      <th>offer_viewed_frac</th>\n",
       "      <th>offer_completed_frac</th>\n",
       "    </tr>\n",
       "  </thead>\n",
       "  <tbody>\n",
       "    <tr>\n",
       "      <th>0</th>\n",
       "      <td>bogo_10_10_5</td>\n",
       "      <td>bogo</td>\n",
       "      <td>1.0</td>\n",
       "      <td>0.961148</td>\n",
       "      <td>0.369946</td>\n",
       "    </tr>\n",
       "    <tr>\n",
       "      <th>1</th>\n",
       "      <td>bogo_10_10_7</td>\n",
       "      <td>bogo</td>\n",
       "      <td>1.0</td>\n",
       "      <td>0.876991</td>\n",
       "      <td>0.352964</td>\n",
       "    </tr>\n",
       "    <tr>\n",
       "      <th>2</th>\n",
       "      <td>bogo_5_5_5</td>\n",
       "      <td>bogo</td>\n",
       "      <td>1.0</td>\n",
       "      <td>0.959451</td>\n",
       "      <td>0.471536</td>\n",
       "    </tr>\n",
       "    <tr>\n",
       "      <th>3</th>\n",
       "      <td>bogo_5_5_7</td>\n",
       "      <td>bogo</td>\n",
       "      <td>1.0</td>\n",
       "      <td>0.543311</td>\n",
       "      <td>0.287091</td>\n",
       "    </tr>\n",
       "    <tr>\n",
       "      <th>4</th>\n",
       "      <td>discount_10_2_10</td>\n",
       "      <td>discount</td>\n",
       "      <td>1.0</td>\n",
       "      <td>0.964460</td>\n",
       "      <td>0.623404</td>\n",
       "    </tr>\n",
       "    <tr>\n",
       "      <th>5</th>\n",
       "      <td>discount_10_2_7</td>\n",
       "      <td>discount</td>\n",
       "      <td>1.0</td>\n",
       "      <td>0.539570</td>\n",
       "      <td>0.288391</td>\n",
       "    </tr>\n",
       "    <tr>\n",
       "      <th>6</th>\n",
       "      <td>discount_20_5_10</td>\n",
       "      <td>discount</td>\n",
       "      <td>1.0</td>\n",
       "      <td>0.347287</td>\n",
       "      <td>0.184924</td>\n",
       "    </tr>\n",
       "    <tr>\n",
       "      <th>7</th>\n",
       "      <td>discount_7_3_7</td>\n",
       "      <td>discount</td>\n",
       "      <td>1.0</td>\n",
       "      <td>0.959587</td>\n",
       "      <td>0.583442</td>\n",
       "    </tr>\n",
       "    <tr>\n",
       "      <th>8</th>\n",
       "      <td>informational_0_0_3</td>\n",
       "      <td>informational</td>\n",
       "      <td>1.0</td>\n",
       "      <td>0.877789</td>\n",
       "      <td>NaN</td>\n",
       "    </tr>\n",
       "    <tr>\n",
       "      <th>9</th>\n",
       "      <td>informational_0_0_4</td>\n",
       "      <td>informational</td>\n",
       "      <td>1.0</td>\n",
       "      <td>0.544046</td>\n",
       "      <td>NaN</td>\n",
       "    </tr>\n",
       "  </tbody>\n",
       "</table>\n",
       "</div>"
      ],
      "text/plain": [
       "event                 name     offer_type  offer_received_frac  \\\n",
       "0             bogo_10_10_5           bogo                  1.0   \n",
       "1             bogo_10_10_7           bogo                  1.0   \n",
       "2               bogo_5_5_5           bogo                  1.0   \n",
       "3               bogo_5_5_7           bogo                  1.0   \n",
       "4         discount_10_2_10       discount                  1.0   \n",
       "5          discount_10_2_7       discount                  1.0   \n",
       "6         discount_20_5_10       discount                  1.0   \n",
       "7           discount_7_3_7       discount                  1.0   \n",
       "8      informational_0_0_3  informational                  1.0   \n",
       "9      informational_0_0_4  informational                  1.0   \n",
       "\n",
       "event  offer_viewed_frac  offer_completed_frac  \n",
       "0               0.961148              0.369946  \n",
       "1               0.876991              0.352964  \n",
       "2               0.959451              0.471536  \n",
       "3               0.543311              0.287091  \n",
       "4               0.964460              0.623404  \n",
       "5               0.539570              0.288391  \n",
       "6               0.347287              0.184924  \n",
       "7               0.959587              0.583442  \n",
       "8               0.877789                   NaN  \n",
       "9               0.544046                   NaN  "
      ]
     },
     "execution_count": 240,
     "metadata": {},
     "output_type": "execute_result"
    }
   ],
   "source": [
    "event_count = transcript_clean.groupby(['name', 'offer_type','event']).size().unstack()\n",
    "event_count['offer_received_frac'] = event_count['offer received']/ event_count['offer received']\n",
    "event_count['offer_viewed_frac'] = event_count['offer viewed']/ event_count['offer received']\n",
    "event_count['offer_completed_frac'] =  event_count['offer completed']/ event_count['offer received']\n",
    "\n",
    "event_count_frac = event_count[['offer_received_frac','offer_viewed_frac', 'offer_completed_frac']]\n",
    "event_count_frac.reset_index()"
   ]
  },
  {
   "cell_type": "code",
   "execution_count": 236,
   "metadata": {
    "scrolled": false
   },
   "outputs": [
    {
     "data": {
      "image/png": "[encoded data removed]",
      "text/plain": [
       "<Figure size 720x432 with 1 Axes>"
      ]
     },
     "metadata": {
      "needs_background": "light"
     },
     "output_type": "display_data"
    }
   ],
   "source": [
    "event_count_stack = event_count_frac.stack().reset_index()\n",
    "\n",
    "f, (ax1, ax2) = plt.subplots(1,2)\n",
    "plt.figure(figsize=(10,6))\n",
    "sns.barplot(x=0,y='name', hue='event', data=event_count_stack)\n",
    "plt.legend(loc='center left', bbox_to_anchor=(1, 0.5))\n",
    "plt.subplots_adjust(top=0.8)\n",
    "plt.title(\"Offer Reviewed & Completed Rate (fraction)\")\n",
    "\n",
    "plt.tight_layout()"
   ]
  },
  {
   "cell_type": "markdown",
   "metadata": {},
   "source": [
    "Notice that there is no offer with the `offer_completed` fraction is larger than `offer_viewed` as in before cleaning."
   ]
  },
  {
   "cell_type": "markdown",
   "metadata": {},
   "source": [
    "## Which offer type has the higher viewed and completed rate ?"
   ]
  },
  {
   "cell_type": "code",
   "execution_count": 253,
   "metadata": {},
   "outputs": [
    {
     "data": {
      "image/png": "[encoded data removed]",
      "text/plain": [
       "<Figure size 1080x432 with 2 Axes>"
      ]
     },
     "metadata": {
      "needs_background": "light"
     },
     "output_type": "display_data"
    }
   ],
   "source": [
    "event_count_stack = event_count_frac.stack().reset_index()\n",
    "\n",
    "f, (ax1, ax2) = plt.subplots(1,2, figsize=(15,6))\n",
    "\n",
    "# plot offer type\n",
    "\n",
    "sns.barplot(x=0,y='offer_type', hue='event', data=event_count_stack, ci=None, ax=ax1)\n",
    "ax1.legend().set_visible(False)\n",
    "ax1.set_title(\"Offer Type\")\n",
    "ax1.set_xlabel('fraction')\n",
    "\n",
    "# plot offer name\n",
    "sns.barplot(x=0,y='name', hue='event', data=event_count_stack, ax=ax2)\n",
    "ax2.legend(loc='center left', bbox_to_anchor=(1, 0.5))\n",
    "ax2.set_title(\"Offer Name\")\n",
    "ax2.set_xlabel('fraction')\n",
    "\n",
    "\n",
    "#plt.subplots_adjust(top=0.8)\n",
    "plt.tight_layout()"
   ]
  },
  {
   "cell_type": "markdown",
   "metadata": {},
   "source": [
    "**Which offer type has the higher viewed and completed rate ?**\n",
    "- The highest reviewed rate is discount_7_3_7, followed by discout_10_2_10\n",
    "- The highest completed rate is discount_10_2_10, followed by discount_7_3_7\n",
    "- Most offer viewed rate is bogos, while most offer completed is discount\n"
   ]
  },
  {
   "cell_type": "markdown",
   "metadata": {},
   "source": [
    "## 4.4. Feature Extraction from clean transcript, profile, and portfolio\n",
    "\n",
    "Function of `feature_extraction` is created in `helpers.py` to extract features from `transcript`, `profile` and `portfolio` clean dataframe and return a clean `profile_udpated` dataframe that contains 92 features :\n",
    "- `age`\n",
    "- `became_member_on`\n",
    "- `gender`\n",
    "- `income`\n",
    "- Offer received count by each customer for each offer ids\n",
    "    - `offer received_bogo_5_5_5`\n",
    "    - `offer received_bogo_5_5_7`\n",
    "    - `offer received_bogo_10_10_7`\n",
    "    - `offer received_bogo_10_10_5`\n",
    "    - `offer received_discount_7_3_7`\n",
    "    - `offer received_discount_10_2_10`\n",
    "    - `offer received_discount_10_2_7`\n",
    "    - `offer received_discount_20_5_10`\n",
    "    - `offer received_informational_0_0_3`\n",
    "    - `offer received_informational_0_0_4`\n",
    "- Offer viewed count by each customer for each offer ids : \n",
    "    - `offer viewed_bogo_5_5_5`\n",
    "    - `offer viewed_bogo_5_5_7`\n",
    "    - `offer viewed_bogo_10_10_7`\n",
    "    - `offer viewed_bogo_10_10_5`\n",
    "    - `offer viewed_discount_7_3_7`\n",
    "    - `offer viewed_discount_10_2_10`\n",
    "    - `offer viewed_discount_10_2_7`\n",
    "    - `offer viewed_discount_20_5_10`\n",
    "    - `offer viewed_informational_0_0_3`\n",
    "    - `offer viewed_informational_0_0_4`\n",
    "    \n",
    "- Offer completed count by each customer for each offer ids : \n",
    "    - `offer completed_bogo_5_5_5`\n",
    "    - `offer completed_bogo_5_5_7`\n",
    "    - `offer completed_bogo_10_10_7`\n",
    "    - `offer completed_bogo_10_10_5`\n",
    "    - `offer completed_discount_7_3_7`\n",
    "    - `offer completed_discount_10_2_10`\n",
    "    - `offer completed_discount_10_2_7`\n",
    "    - `offer completed_discount_20_5_10`\n",
    "    - `offer completed_informational_0_0_3`\n",
    "    - `offer completed_informational_0_0_4`\n",
    "- Average Response time to completed each offer ids (except informational)\n",
    "    - `bogo_10_10_7_response_time_avg`\n",
    "    - `bogo_10_10_5_response_time_avg`\n",
    "    - `bogo_5_5_7_response_time_avg`\n",
    "    - `discount_20_5_10_response_time_avg`\n",
    "    - `discount_7_3_7_response_time_avg`\n",
    "    - `discount_10_2_10_response_time_avg`\n",
    "    - `bogo_5_5_5_response_time_avg`\n",
    "    - `discount_10_2_7_response_time_avg`\n",
    "- `avg_spending` : average spending made by each customer\n",
    "- `transaction_count` : total transactions count made by each customer\n",
    "- `sum_spending` : total amount of transactions made by each customer\n",
    "- Total count for all offer :\n",
    "    - `offer_received_total`\n",
    "    - `offer_viewed_total`\n",
    "    - `offer_completed_total`\n",
    "- Total count for all bogo :\n",
    "    - `bogo_received`\n",
    "    - `bogo_viewed`\n",
    "    - `bogo_completed`\n",
    "- Total count for all discount :\n",
    "    - `discount_received`\n",
    "    - `discount_viewed`\n",
    "    - `discount_completed`\n",
    "- Total count for all informational :\n",
    "    - `informational_received`\n",
    "    - `informational_viewed`  \n",
    "- Overall rate_offer :\n",
    "    - `rate_offer_viewed_overall` = `offer_viewed_total` / `offer_received_total`\n",
    "    - `rate_offer_completed_received_overall` = `offer_completed_total` / `offer_received_total`\n",
    "    - `rate_offer_completed_viewed_overall` = `offer_completed_total` / `offer_viewed_total`\n",
    "- All Bogo rate :  \n",
    "    - `rate_viewed_bogo`\n",
    "    - `rate_completed_viewed_bogo`\n",
    "    - `rate_completed_received_bogo`\n",
    "- All Discount rate :  \n",
    "    - `rate_viewed_discount`\n",
    "    - `rate_completed_viewed_discount`\n",
    "    - `rate_completed_received_discount`\n",
    "- All Informational rate :  \n",
    "    - `rate_viewed_informational`\n",
    "- Rate offer for each offer :\n",
    "    - `rate_offer_viewed_bogo_10_10_7`\n",
    "    - `rate_offer_completed_viewed_bogo_10_10_7`\n",
    "    - `rate_offer_completed_received_bogo_10_10_7`\n",
    "    - `rate_offer_viewed_bogo_10_10_5`\n",
    "    - `rate_offer_completed_viewed_bogo_10_10_5`\n",
    "    - `rate_offer_completed_received_bogo_10_10_5`\n",
    "    - `rate_offer_viewed_informational_0_0_4`\n",
    "    - `rate_offer_viewed_bogo_5_5_7`\n",
    "    - `rate_offer_completed_viewed_bogo_5_5_7`\n",
    "    - `rate_offer_completed_received_bogo_5_5_7`\n",
    "    - `rate_offer_viewed_discount_20_5_10`\n",
    "    - `rate_offer_completed_viewed_discount_20_5_10`\n",
    "    - `rate_offer_completed_received_discount_20_5_10`\n",
    "    - `rate_offer_viewed_discount_7_3_7`\n",
    "    - `rate_offer_completed_viewed_discount_7_3_7`\n",
    "    - `rate_offer_completed_received_discount_7_3_7`\n",
    "    - `rate_offer_viewed_discount_10_2_10`\n",
    "    - `rate_offer_completed_viewed_discount_10_2_10`\n",
    "    - `rate_offer_completed_received_discount_10_2_10`\n",
    "    - `rate_offer_viewed_informational_0_0_3`\n",
    "    - `rate_offer_viewed_bogo_5_5_5`\n",
    "    - `rate_offer_completed_viewed_bogo_5_5_5`\n",
    "    - `rate_offer_completed_received_bogo_5_5_5`\n",
    "    - `rate_offer_viewed_discount_10_2_7`\n",
    "    - `rate_offer_completed_viewed_discount_10_2_7`\n",
    "    - `rate_offer_completed_received_discount_10_2_7`\n",
    "- `transaction_completed_ratio` : `transaction_count` / `offer_completed_total`"
   ]
  },
  {
   "cell_type": "code",
   "execution_count": 3,
   "metadata": {},
   "outputs": [
    {
     "name": "stdout",
     "output_type": "stream",
     "text": [
      "The autoreload extension is already loaded. To reload it, use:\n",
      "  %reload_ext autoreload\n",
      "The transcript_clean.csv and transcript_merge.csv file are available at local folder\n",
      "The profile_updated.csv file is available at local folder.\n"
     ]
    }
   ],
   "source": [
    "\n",
    "%load_ext autoreload\n",
    "%autoreload 2\n",
    "\n",
    "import helpers as h\n",
    "\n",
    "# read in the json files\n",
    "portfolio = pd.read_json('data/portfolio.json', orient='records', lines=True)\n",
    "profile = pd.read_json('data/profile.json', orient='records', lines=True)\n",
    "transcript = pd.read_json('data/transcript.json', orient='records', lines=True)\n",
    "\n",
    "#clean transcript\n",
    "transcript_clean, transcript_all = h.transcript_preprocessing(transcript, profile, portfolio)\n",
    "\n",
    "#extract features\n",
    "profile_updated = h.feature_extraction(transcript_clean,transcript_all,profile, portfolio)"
   ]
  },
  {
   "cell_type": "code",
   "execution_count": 5,
   "metadata": {
    "scrolled": true
   },
   "outputs": [
    {
     "data": {
      "text/plain": [
       "(17000, 92)"
      ]
     },
     "execution_count": 5,
     "metadata": {},
     "output_type": "execute_result"
    }
   ],
   "source": [
    "profile_updated.shape"
   ]
  },
  {
   "cell_type": "code",
   "execution_count": 8,
   "metadata": {},
   "outputs": [
    {
     "data": {
      "text/html": [
       "<div>\n",
       "<style scoped>\n",
       "    .dataframe tbody tr th:only-of-type {\n",
       "        vertical-align: middle;\n",
       "    }\n",
       "\n",
       "    .dataframe tbody tr th {\n",
       "        vertical-align: top;\n",
       "    }\n",
       "\n",
       "    .dataframe thead th {\n",
       "        text-align: right;\n",
       "    }\n",
       "</style>\n",
       "<table border=\"1\" class=\"dataframe\">\n",
       "  <thead>\n",
       "    <tr style=\"text-align: right;\">\n",
       "      <th></th>\n",
       "      <th>age</th>\n",
       "      <th>became_member_on</th>\n",
       "      <th>gender</th>\n",
       "      <th>income</th>\n",
       "      <th>offer received_bogo_10_10_7</th>\n",
       "      <th>offer received_bogo_10_10_5</th>\n",
       "      <th>offer received_informational_0_0_4</th>\n",
       "      <th>offer received_bogo_5_5_7</th>\n",
       "      <th>offer received_discount_20_5_10</th>\n",
       "      <th>offer received_discount_7_3_7</th>\n",
       "      <th>...</th>\n",
       "      <th>rate_offer_completed_viewed_discount_10_2_10</th>\n",
       "      <th>rate_offer_completed_received_discount_10_2_10</th>\n",
       "      <th>rate_offer_viewed_informational_0_0_3</th>\n",
       "      <th>rate_offer_viewed_bogo_5_5_5</th>\n",
       "      <th>rate_offer_completed_viewed_bogo_5_5_5</th>\n",
       "      <th>rate_offer_completed_received_bogo_5_5_5</th>\n",
       "      <th>rate_offer_viewed_discount_10_2_7</th>\n",
       "      <th>rate_offer_completed_viewed_discount_10_2_7</th>\n",
       "      <th>rate_offer_completed_received_discount_10_2_7</th>\n",
       "      <th>transaction_completed_ratio</th>\n",
       "    </tr>\n",
       "  </thead>\n",
       "  <tbody>\n",
       "    <tr>\n",
       "      <th>68be06ca386d4c31939f3a4f0e3dd783</th>\n",
       "      <td>118</td>\n",
       "      <td>2017-02-12</td>\n",
       "      <td>None</td>\n",
       "      <td>NaN</td>\n",
       "      <td>0.0</td>\n",
       "      <td>0.0</td>\n",
       "      <td>0.0</td>\n",
       "      <td>0.0</td>\n",
       "      <td>1.0</td>\n",
       "      <td>1.0</td>\n",
       "      <td>...</td>\n",
       "      <td>0.5</td>\n",
       "      <td>0.5</td>\n",
       "      <td>0.0</td>\n",
       "      <td>0.0</td>\n",
       "      <td>0.0</td>\n",
       "      <td>0.0</td>\n",
       "      <td>1.0</td>\n",
       "      <td>0.0</td>\n",
       "      <td>0.0</td>\n",
       "      <td>4.285714</td>\n",
       "    </tr>\n",
       "    <tr>\n",
       "      <th>0610b486422d4921ae7d2bf64640c50b</th>\n",
       "      <td>55</td>\n",
       "      <td>2017-07-15</td>\n",
       "      <td>F</td>\n",
       "      <td>112000.0</td>\n",
       "      <td>0.0</td>\n",
       "      <td>0.0</td>\n",
       "      <td>1.0</td>\n",
       "      <td>1.0</td>\n",
       "      <td>0.0</td>\n",
       "      <td>0.0</td>\n",
       "      <td>...</td>\n",
       "      <td>0.0</td>\n",
       "      <td>0.0</td>\n",
       "      <td>0.0</td>\n",
       "      <td>0.0</td>\n",
       "      <td>0.0</td>\n",
       "      <td>0.0</td>\n",
       "      <td>0.0</td>\n",
       "      <td>0.0</td>\n",
       "      <td>0.0</td>\n",
       "      <td>30.000000</td>\n",
       "    </tr>\n",
       "    <tr>\n",
       "      <th>38fe809add3b4fcf9315a9694bb96ff5</th>\n",
       "      <td>118</td>\n",
       "      <td>2018-07-12</td>\n",
       "      <td>None</td>\n",
       "      <td>NaN</td>\n",
       "      <td>0.0</td>\n",
       "      <td>0.0</td>\n",
       "      <td>0.0</td>\n",
       "      <td>1.0</td>\n",
       "      <td>0.0</td>\n",
       "      <td>0.0</td>\n",
       "      <td>...</td>\n",
       "      <td>0.0</td>\n",
       "      <td>0.0</td>\n",
       "      <td>1.0</td>\n",
       "      <td>0.0</td>\n",
       "      <td>0.0</td>\n",
       "      <td>0.0</td>\n",
       "      <td>0.0</td>\n",
       "      <td>0.0</td>\n",
       "      <td>0.0</td>\n",
       "      <td>60.000000</td>\n",
       "    </tr>\n",
       "    <tr>\n",
       "      <th>78afa995795e4d85b5d9ceeca43f5fef</th>\n",
       "      <td>75</td>\n",
       "      <td>2017-05-09</td>\n",
       "      <td>F</td>\n",
       "      <td>100000.0</td>\n",
       "      <td>1.0</td>\n",
       "      <td>0.0</td>\n",
       "      <td>0.0</td>\n",
       "      <td>1.0</td>\n",
       "      <td>0.0</td>\n",
       "      <td>0.0</td>\n",
       "      <td>...</td>\n",
       "      <td>0.0</td>\n",
       "      <td>0.0</td>\n",
       "      <td>1.0</td>\n",
       "      <td>1.0</td>\n",
       "      <td>0.0</td>\n",
       "      <td>0.0</td>\n",
       "      <td>0.0</td>\n",
       "      <td>0.0</td>\n",
       "      <td>0.0</td>\n",
       "      <td>3.333333</td>\n",
       "    </tr>\n",
       "    <tr>\n",
       "      <th>a03223e636434f42ac4c3df47e8bac43</th>\n",
       "      <td>118</td>\n",
       "      <td>2017-08-04</td>\n",
       "      <td>None</td>\n",
       "      <td>NaN</td>\n",
       "      <td>0.0</td>\n",
       "      <td>0.0</td>\n",
       "      <td>1.0</td>\n",
       "      <td>0.0</td>\n",
       "      <td>3.0</td>\n",
       "      <td>0.0</td>\n",
       "      <td>...</td>\n",
       "      <td>0.0</td>\n",
       "      <td>0.0</td>\n",
       "      <td>0.0</td>\n",
       "      <td>0.0</td>\n",
       "      <td>0.0</td>\n",
       "      <td>0.0</td>\n",
       "      <td>0.0</td>\n",
       "      <td>0.0</td>\n",
       "      <td>0.0</td>\n",
       "      <td>30.000000</td>\n",
       "    </tr>\n",
       "  </tbody>\n",
       "</table>\n",
       "<p>5 rows × 92 columns</p>\n",
       "</div>"
      ],
      "text/plain": [
       "                                  age became_member_on gender    income  \\\n",
       "68be06ca386d4c31939f3a4f0e3dd783  118       2017-02-12   None       NaN   \n",
       "0610b486422d4921ae7d2bf64640c50b   55       2017-07-15      F  112000.0   \n",
       "38fe809add3b4fcf9315a9694bb96ff5  118       2018-07-12   None       NaN   \n",
       "78afa995795e4d85b5d9ceeca43f5fef   75       2017-05-09      F  100000.0   \n",
       "a03223e636434f42ac4c3df47e8bac43  118       2017-08-04   None       NaN   \n",
       "\n",
       "                                  offer received_bogo_10_10_7  \\\n",
       "68be06ca386d4c31939f3a4f0e3dd783                          0.0   \n",
       "0610b486422d4921ae7d2bf64640c50b                          0.0   \n",
       "38fe809add3b4fcf9315a9694bb96ff5                          0.0   \n",
       "78afa995795e4d85b5d9ceeca43f5fef                          1.0   \n",
       "a03223e636434f42ac4c3df47e8bac43                          0.0   \n",
       "\n",
       "                                  offer received_bogo_10_10_5  \\\n",
       "68be06ca386d4c31939f3a4f0e3dd783                          0.0   \n",
       "0610b486422d4921ae7d2bf64640c50b                          0.0   \n",
       "38fe809add3b4fcf9315a9694bb96ff5                          0.0   \n",
       "78afa995795e4d85b5d9ceeca43f5fef                          0.0   \n",
       "a03223e636434f42ac4c3df47e8bac43                          0.0   \n",
       "\n",
       "                                  offer received_informational_0_0_4  \\\n",
       "68be06ca386d4c31939f3a4f0e3dd783                                 0.0   \n",
       "0610b486422d4921ae7d2bf64640c50b                                 1.0   \n",
       "38fe809add3b4fcf9315a9694bb96ff5                                 0.0   \n",
       "78afa995795e4d85b5d9ceeca43f5fef                                 0.0   \n",
       "a03223e636434f42ac4c3df47e8bac43                                 1.0   \n",
       "\n",
       "                                  offer received_bogo_5_5_7  \\\n",
       "68be06ca386d4c31939f3a4f0e3dd783                        0.0   \n",
       "0610b486422d4921ae7d2bf64640c50b                        1.0   \n",
       "38fe809add3b4fcf9315a9694bb96ff5                        1.0   \n",
       "78afa995795e4d85b5d9ceeca43f5fef                        1.0   \n",
       "a03223e636434f42ac4c3df47e8bac43                        0.0   \n",
       "\n",
       "                                  offer received_discount_20_5_10  \\\n",
       "68be06ca386d4c31939f3a4f0e3dd783                              1.0   \n",
       "0610b486422d4921ae7d2bf64640c50b                              0.0   \n",
       "38fe809add3b4fcf9315a9694bb96ff5                              0.0   \n",
       "78afa995795e4d85b5d9ceeca43f5fef                              0.0   \n",
       "a03223e636434f42ac4c3df47e8bac43                              3.0   \n",
       "\n",
       "                                  offer received_discount_7_3_7  \\\n",
       "68be06ca386d4c31939f3a4f0e3dd783                            1.0   \n",
       "0610b486422d4921ae7d2bf64640c50b                            0.0   \n",
       "38fe809add3b4fcf9315a9694bb96ff5                            0.0   \n",
       "78afa995795e4d85b5d9ceeca43f5fef                            0.0   \n",
       "a03223e636434f42ac4c3df47e8bac43                            0.0   \n",
       "\n",
       "                                             ...               \\\n",
       "68be06ca386d4c31939f3a4f0e3dd783             ...                \n",
       "0610b486422d4921ae7d2bf64640c50b             ...                \n",
       "38fe809add3b4fcf9315a9694bb96ff5             ...                \n",
       "78afa995795e4d85b5d9ceeca43f5fef             ...                \n",
       "a03223e636434f42ac4c3df47e8bac43             ...                \n",
       "\n",
       "                                  rate_offer_completed_viewed_discount_10_2_10  \\\n",
       "68be06ca386d4c31939f3a4f0e3dd783                                           0.5   \n",
       "0610b486422d4921ae7d2bf64640c50b                                           0.0   \n",
       "38fe809add3b4fcf9315a9694bb96ff5                                           0.0   \n",
       "78afa995795e4d85b5d9ceeca43f5fef                                           0.0   \n",
       "a03223e636434f42ac4c3df47e8bac43                                           0.0   \n",
       "\n",
       "                                  rate_offer_completed_received_discount_10_2_10  \\\n",
       "68be06ca386d4c31939f3a4f0e3dd783                                             0.5   \n",
       "0610b486422d4921ae7d2bf64640c50b                                             0.0   \n",
       "38fe809add3b4fcf9315a9694bb96ff5                                             0.0   \n",
       "78afa995795e4d85b5d9ceeca43f5fef                                             0.0   \n",
       "a03223e636434f42ac4c3df47e8bac43                                             0.0   \n",
       "\n",
       "                                  rate_offer_viewed_informational_0_0_3  \\\n",
       "68be06ca386d4c31939f3a4f0e3dd783                                    0.0   \n",
       "0610b486422d4921ae7d2bf64640c50b                                    0.0   \n",
       "38fe809add3b4fcf9315a9694bb96ff5                                    1.0   \n",
       "78afa995795e4d85b5d9ceeca43f5fef                                    1.0   \n",
       "a03223e636434f42ac4c3df47e8bac43                                    0.0   \n",
       "\n",
       "                                  rate_offer_viewed_bogo_5_5_5  \\\n",
       "68be06ca386d4c31939f3a4f0e3dd783                           0.0   \n",
       "0610b486422d4921ae7d2bf64640c50b                           0.0   \n",
       "38fe809add3b4fcf9315a9694bb96ff5                           0.0   \n",
       "78afa995795e4d85b5d9ceeca43f5fef                           1.0   \n",
       "a03223e636434f42ac4c3df47e8bac43                           0.0   \n",
       "\n",
       "                                  rate_offer_completed_viewed_bogo_5_5_5  \\\n",
       "68be06ca386d4c31939f3a4f0e3dd783                                     0.0   \n",
       "0610b486422d4921ae7d2bf64640c50b                                     0.0   \n",
       "38fe809add3b4fcf9315a9694bb96ff5                                     0.0   \n",
       "78afa995795e4d85b5d9ceeca43f5fef                                     0.0   \n",
       "a03223e636434f42ac4c3df47e8bac43                                     0.0   \n",
       "\n",
       "                                  rate_offer_completed_received_bogo_5_5_5  \\\n",
       "68be06ca386d4c31939f3a4f0e3dd783                                       0.0   \n",
       "0610b486422d4921ae7d2bf64640c50b                                       0.0   \n",
       "38fe809add3b4fcf9315a9694bb96ff5                                       0.0   \n",
       "78afa995795e4d85b5d9ceeca43f5fef                                       0.0   \n",
       "a03223e636434f42ac4c3df47e8bac43                                       0.0   \n",
       "\n",
       "                                  rate_offer_viewed_discount_10_2_7  \\\n",
       "68be06ca386d4c31939f3a4f0e3dd783                                1.0   \n",
       "0610b486422d4921ae7d2bf64640c50b                                0.0   \n",
       "38fe809add3b4fcf9315a9694bb96ff5                                0.0   \n",
       "78afa995795e4d85b5d9ceeca43f5fef                                0.0   \n",
       "a03223e636434f42ac4c3df47e8bac43                                0.0   \n",
       "\n",
       "                                  rate_offer_completed_viewed_discount_10_2_7  \\\n",
       "68be06ca386d4c31939f3a4f0e3dd783                                          0.0   \n",
       "0610b486422d4921ae7d2bf64640c50b                                          0.0   \n",
       "38fe809add3b4fcf9315a9694bb96ff5                                          0.0   \n",
       "78afa995795e4d85b5d9ceeca43f5fef                                          0.0   \n",
       "a03223e636434f42ac4c3df47e8bac43                                          0.0   \n",
       "\n",
       "                                  rate_offer_completed_received_discount_10_2_7  \\\n",
       "68be06ca386d4c31939f3a4f0e3dd783                                            0.0   \n",
       "0610b486422d4921ae7d2bf64640c50b                                            0.0   \n",
       "38fe809add3b4fcf9315a9694bb96ff5                                            0.0   \n",
       "78afa995795e4d85b5d9ceeca43f5fef                                            0.0   \n",
       "a03223e636434f42ac4c3df47e8bac43                                            0.0   \n",
       "\n",
       "                                  transaction_completed_ratio  \n",
       "68be06ca386d4c31939f3a4f0e3dd783                     4.285714  \n",
       "0610b486422d4921ae7d2bf64640c50b                    30.000000  \n",
       "38fe809add3b4fcf9315a9694bb96ff5                    60.000000  \n",
       "78afa995795e4d85b5d9ceeca43f5fef                     3.333333  \n",
       "a03223e636434f42ac4c3df47e8bac43                    30.000000  \n",
       "\n",
       "[5 rows x 92 columns]"
      ]
     },
     "execution_count": 8,
     "metadata": {},
     "output_type": "execute_result"
    }
   ],
   "source": [
    "profile_updated.head()"
   ]
  },
  {
   "cell_type": "code",
   "execution_count": 9,
   "metadata": {
    "scrolled": true
   },
   "outputs": [
    {
     "name": "stdout",
     "output_type": "stream",
     "text": [
      "<class 'pandas.core.frame.DataFrame'>\n",
      "Index: 17000 entries, 68be06ca386d4c31939f3a4f0e3dd783 to e4052622e5ba45a8b96b59aba68cf068\n",
      "Data columns (total 92 columns):\n",
      "age                                               17000 non-null int64\n",
      "became_member_on                                  17000 non-null datetime64[ns]\n",
      "gender                                            14825 non-null object\n",
      "income                                            14825 non-null float64\n",
      "offer received_bogo_10_10_7                       17000 non-null float64\n",
      "offer received_bogo_10_10_5                       17000 non-null float64\n",
      "offer received_informational_0_0_4                17000 non-null float64\n",
      "offer received_bogo_5_5_7                         17000 non-null float64\n",
      "offer received_discount_20_5_10                   17000 non-null float64\n",
      "offer received_discount_7_3_7                     17000 non-null float64\n",
      "offer received_discount_10_2_10                   17000 non-null float64\n",
      "offer received_informational_0_0_3                17000 non-null float64\n",
      "offer received_bogo_5_5_5                         17000 non-null float64\n",
      "offer received_discount_10_2_7                    17000 non-null float64\n",
      "offer viewed_bogo_10_10_7                         17000 non-null float64\n",
      "offer viewed_bogo_10_10_5                         17000 non-null float64\n",
      "offer viewed_informational_0_0_4                  17000 non-null float64\n",
      "offer viewed_bogo_5_5_7                           17000 non-null float64\n",
      "offer viewed_discount_20_5_10                     17000 non-null float64\n",
      "offer viewed_discount_7_3_7                       17000 non-null float64\n",
      "offer viewed_discount_10_2_10                     17000 non-null float64\n",
      "offer viewed_informational_0_0_3                  17000 non-null float64\n",
      "offer viewed_bogo_5_5_5                           17000 non-null float64\n",
      "offer viewed_discount_10_2_7                      17000 non-null float64\n",
      "offer completed_bogo_10_10_7                      17000 non-null float64\n",
      "offer completed_bogo_10_10_5                      17000 non-null float64\n",
      "offer completed_bogo_5_5_7                        17000 non-null float64\n",
      "offer completed_discount_20_5_10                  17000 non-null float64\n",
      "offer completed_discount_7_3_7                    17000 non-null float64\n",
      "offer completed_discount_10_2_10                  17000 non-null float64\n",
      "offer completed_bogo_5_5_5                        17000 non-null float64\n",
      "offer completed_discount_10_2_7                   17000 non-null float64\n",
      "bogo_10_10_7_response_time_avg                    2030 non-null float64\n",
      "bogo_10_10_5_response_time_avg                    2145 non-null float64\n",
      "bogo_5_5_7_response_time_avg                      1664 non-null float64\n",
      "discount_20_5_10_response_time_avg                1137 non-null float64\n",
      "discount_7_3_7_response_time_avg                  3471 non-null float64\n",
      "discount_10_2_10_response_time_avg                3729 non-null float64\n",
      "bogo_5_5_5_response_time_avg                      2724 non-null float64\n",
      "discount_10_2_7_response_time_avg                 1720 non-null float64\n",
      "avg_spending                                      17000 non-null float64\n",
      "transaction_count                                 17000 non-null float64\n",
      "sum_spending                                      17000 non-null float64\n",
      "invalid                                           17000 non-null float64\n",
      "bogo_received                                     17000 non-null float64\n",
      "bogo_viewed                                       17000 non-null float64\n",
      "rate_viewed_bogo                                  17000 non-null float64\n",
      "bogo_completed                                    17000 non-null float64\n",
      "rate_completed_viewed_bogo                        17000 non-null float64\n",
      "rate_completed_received_bogo                      17000 non-null float64\n",
      "discount_received                                 17000 non-null float64\n",
      "discount_viewed                                   17000 non-null float64\n",
      "rate_viewed_discount                              17000 non-null float64\n",
      "discount_completed                                17000 non-null float64\n",
      "rate_completed_viewed_discount                    17000 non-null float64\n",
      "rate_completed_received_discount                  17000 non-null float64\n",
      "informational_received                            17000 non-null float64\n",
      "informational_viewed                              17000 non-null float64\n",
      "rate_viewed_informational                         17000 non-null float64\n",
      "offer_received_total                              17000 non-null float64\n",
      "offer_viewed_total                                17000 non-null float64\n",
      "offer_completed_total                             17000 non-null float64\n",
      "rate_offer_viewed_overall                         17000 non-null float64\n",
      "rate_offer_completed_received_overall             17000 non-null float64\n",
      "rate_offer_completed_viewed_overall               17000 non-null float64\n",
      "rate_offer_viewed_bogo_10_10_7                    17000 non-null float64\n",
      "rate_offer_completed_viewed_bogo_10_10_7          17000 non-null float64\n",
      "rate_offer_completed_received_bogo_10_10_7        17000 non-null float64\n",
      "rate_offer_viewed_bogo_10_10_5                    17000 non-null float64\n",
      "rate_offer_completed_viewed_bogo_10_10_5          17000 non-null float64\n",
      "rate_offer_completed_received_bogo_10_10_5        17000 non-null float64\n",
      "rate_offer_viewed_informational_0_0_4             17000 non-null float64\n",
      "rate_offer_viewed_bogo_5_5_7                      17000 non-null float64\n",
      "rate_offer_completed_viewed_bogo_5_5_7            17000 non-null float64\n",
      "rate_offer_completed_received_bogo_5_5_7          17000 non-null float64\n",
      "rate_offer_viewed_discount_20_5_10                17000 non-null float64\n",
      "rate_offer_completed_viewed_discount_20_5_10      17000 non-null float64\n",
      "rate_offer_completed_received_discount_20_5_10    17000 non-null float64\n",
      "rate_offer_viewed_discount_7_3_7                  17000 non-null float64\n",
      "rate_offer_completed_viewed_discount_7_3_7        17000 non-null float64\n",
      "rate_offer_completed_received_discount_7_3_7      17000 non-null float64\n",
      "rate_offer_viewed_discount_10_2_10                17000 non-null float64\n",
      "rate_offer_completed_viewed_discount_10_2_10      17000 non-null float64\n",
      "rate_offer_completed_received_discount_10_2_10    17000 non-null float64\n",
      "rate_offer_viewed_informational_0_0_3             17000 non-null float64\n",
      "rate_offer_viewed_bogo_5_5_5                      17000 non-null float64\n",
      "rate_offer_completed_viewed_bogo_5_5_5            17000 non-null float64\n",
      "rate_offer_completed_received_bogo_5_5_5          17000 non-null float64\n",
      "rate_offer_viewed_discount_10_2_7                 17000 non-null float64\n",
      "rate_offer_completed_viewed_discount_10_2_7       17000 non-null float64\n",
      "rate_offer_completed_received_discount_10_2_7     17000 non-null float64\n",
      "transaction_completed_ratio                       17000 non-null float64\n",
      "dtypes: datetime64[ns](1), float64(89), int64(1), object(1)\n",
      "memory usage: 12.1+ MB\n"
     ]
    }
   ],
   "source": [
    "profile_updated.info()"
   ]
  }
 ],
 "metadata": {
  "kernelspec": {
   "display_name": "Python 3",
   "language": "python",
   "name": "python3"
  },
  "language_info": {
   "codemirror_mode": {
    "name": "ipython",
    "version": 3
   },
   "file_extension": ".py",
   "mimetype": "text/x-python",
   "name": "python",
   "nbconvert_exporter": "python",
   "pygments_lexer": "ipython3",
   "version": "3.7.1"
  }
 },
 "nbformat": 4,
 "nbformat_minor": 2
}
